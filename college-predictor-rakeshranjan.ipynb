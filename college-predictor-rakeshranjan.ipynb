{
 "cells": [
  {
   "cell_type": "markdown",
   "id": "428bc254-f843-4316-ae5c-67268e611c4f",
   "metadata": {},
   "source": [
    "## Every year students face issue in finding better colleges and branch based on their rank in JEE so i tried to build a College Predictor to help\n",
    "## them to know colleges and branch they can get on their rank in JEE"
   ]
  },
  {
   "cell_type": "markdown",
   "id": "d70a79a0-1fc6-4ad3-80f9-6b0e610f4ec0",
   "metadata": {},
   "source": [
    "# **<span style=\"color:#0000FF;\"><span style=\"color:#0000FF;\">📰About the Dataset</span>**\n",
    "\n",
    "**Context :**\n",
    "Joint Entrance Examination – Main (JEE-Main), formerly All India Engineering Entrance Examination (AIEEE), is an Indian standardised computer-based test for admission to various technical undergraduate programs in engineering, architecture, and planning across colleges in India. The exam is conducted by the JEE Apex Board for Admission for B.Tech, B.Arch, etc. programs in the premier technical institutes such as the National Institutes of Technology and Indian Institutes of Information Technology are based on the rank secured in the JEE-Main. It is usually conducted twice every year.\n",
    "\n",
    "**IITs and NITs :**\n",
    "The Indian Institutes of Technology (IITs) are the globally appreciated engineering and technological institutes in India. IITs have maintained quality education and internationally acclaimed research facilities. IIT JEE Exam is the most popular engineering admission entrance test conducted in India.\n",
    "National Institute of Technology (NITs) are premier engineering colleges in India offering admission to degree courses at both undergraduate and postgraduate level.\n",
    "\n",
    "# **<span style=\"color:#0000FF;\">📁About the files</span>**\n",
    "\n",
    "**year** - The year of the conducted JEE exam  \n",
    "\n",
    "**institute_type** - Type of Institute (IIT or NIT)  \n",
    "\n",
    "**round_no** - The counseling round number \n",
    "\n",
    "**quota** - The reservation quota   \n",
    "\n",
    "AI : All-India\n",
    "\n",
    "HS : Home-State\n",
    "\n",
    "OS : Other-State\n",
    "\n",
    "AP : Andhra Pradesh\n",
    "\n",
    "GO : Goa\n",
    "\n",
    "JK : Jammu & Kashmir\n",
    "\n",
    "LA : Ladakh\n",
    "\n",
    "**pool** - The gender quota\n",
    "\n",
    "**institute_short** - THe short name of the Institution   \n",
    "\n",
    "**program_name** - The name of the program/stream  \n",
    "\n",
    "**program_duration** - The duration of the course (in years)   \n",
    "\n",
    "**degree_short** - The name of the degree (Abbreviated)    \n",
    "\n",
    "**category** - The caste category  \n",
    "\n",
    "GEN : General\n",
    "\n",
    "OBC-NCL : Other Backward Classes-Non Creamy Layer\n",
    "\n",
    "SC : Scheduled Castes\n",
    "\n",
    "ST : Scheduled Tribes \n",
    "\n",
    "GEN-PWD : General & Persons with Disabilities\n",
    "\n",
    "OBC-NCL-PWD : Other Backward Classes & Persons with Disabilities\n",
    "\n",
    "SC-PWD : Scheduled Castes & Persons with Disabilities\n",
    "\n",
    "ST-PWD : Scheduled Tribes & Persons with Disabilities\n",
    "\n",
    "GEN-EWS : General & Economically Weaker Section\n",
    "\n",
    "GEN-EWS-PWD : General & Economically Weaker Section & Persons with Disability\n",
    "\n",
    "**opening_rank** - The opening (starting) rank for getting admission in the institution    \n",
    "\n",
    "**closing_rank** - The closing (ending) rank for getting admission in the institution  \n",
    "\n",
    "**is_preparatory** - If admission to a preparatory course is available  -  0 : No, 1 : Yes\n",
    "\n",
    "\n",
    "**Acknowledgement:**\n",
    "*This data is provided by scraping the website : https://cutoffs.iitr.ac.in/*\n",
    "\n",
    "*All credits and rights belong to them.*;\">📰About the Dataset</span>**\n",
    "\n",
    "**Context :**\n",
    "Joint Entrance Examination – Main (JEE-Main), formerly All India Engineering Entrance Examination (AIEEE), is an Indian standardised computer-based test for admission to various technical undergraduate programs in engineering, architecture, and planning across colleges in India. The exam is conducted by the JEE Apex Board for Admission for B.Tech, B.Arch, etc. programs in the premier technical institutes such as the National Institutes of Technology and Indian Institutes of Information Technology are based on the rank secured in the JEE-Main. It is usually conducted twice every year.\n",
    "\n",
    "**IITs and NITs :**\n",
    "The Indian Institutes of Technology (IITs) are the globally appreciated engineering and technological institutes in India. IITs have maintained quality education and internationally acclaimed research facilities. IIT JEE Exam is the most popular engineering admission entrance test conducted in India.\n",
    "National Institute of Technology (NITs) are premier engineering colleges in India offering admission to degree courses at both undergraduate and postgraduate level.\n",
    "\n",
    "# **<span style=\"color:#0000FF;\">📁About the files</span>**\n",
    "\n",
    "**year** - The year of the conducted JEE exam  \n",
    "\n",
    "**institute_type** - Type of Institute (IIT or NIT)  \n",
    "\n",
    "**round_no** - The counseling round number \n",
    "\n",
    "**quota** - The reservation quota   \n",
    "\n",
    "AI : All-India\n",
    "\n",
    "HS : Home-State\n",
    "\n",
    "OS : Other-State\n",
    "\n",
    "AP : Andhra Pradesh\n",
    "\n",
    "GO : Goa\n",
    "\n",
    "JK : Jammu & Kashmir\n",
    "\n",
    "LA : Ladakh\n",
    "\n",
    "**pool** - The gender quota\n",
    "\n",
    "**institute_short** - THe short name of the Institution   \n",
    "\n",
    "**program_name** - The name of the program/stream  \n",
    "\n",
    "**program_duration** - The duration of the course (in years)   \n",
    "\n",
    "**degree_short** - The name of the degree (Abbreviated)    \n",
    "\n",
    "**category** - The caste category  \n",
    "\n",
    "GEN : General\n",
    "\n",
    "OBC-NCL : Other Backward Classes-Non Creamy Layer\n",
    "\n",
    "SC : Scheduled Castes\n",
    "\n",
    "ST : Scheduled Tribes \n",
    "\n",
    "GEN-PWD : General & Persons with Disabilities\n",
    "\n",
    "OBC-NCL-PWD : Other Backward Classes & Persons with Disabilities\n",
    "\n",
    "SC-PWD : Scheduled Castes & Persons with Disabilities\n",
    "\n",
    "ST-PWD : Scheduled Tribes & Persons with Disabilities\n",
    "\n",
    "GEN-EWS : General & Economically Weaker Section\n",
    "\n",
    "GEN-EWS-PWD : General & Economically Weaker Section & Persons with Disability\n",
    "\n",
    "**opening_rank** - The opening (starting) rank for getting admission in the institution    \n",
    "\n",
    "**closing_rank** - The closing (ending) rank for getting admission in the institution  \n",
    "\n",
    "**is_preparatory** - If admission to a preparatory course is available  -  0 : No, 1 : Yes\n",
    "\n",
    "\n",
    "**Acknowledgement:**\n",
    "*This data is provided by scraping the website : https://cutoffs.iitr.ac.in/*\n",
    "\n",
    "*All credits and rights belong to them.*"
   ]
  },
  {
   "cell_type": "markdown",
   "id": "0931dfeb-2bcf-4b39-b01e-3a7b853c8994",
   "metadata": {},
   "source": [
    "# <h1 style='background:#800080; border:0; color:White; padding-top: 20px'><center>EDA : IIT-NIT category-wise cutoff data</center></h1> "
   ]
  },
  {
   "cell_type": "markdown",
   "id": "0b12a469-03b1-440a-9d56-b5147e62aa97",
   "metadata": {},
   "source": [
    "## **<span style=\"color: #0000FF;\">Let's get our Imports</span>**"
   ]
  },
  {
   "cell_type": "code",
   "execution_count": 2,
   "id": "37b639f1-320e-4f23-9055-da78edf6e374",
   "metadata": {},
   "outputs": [],
   "source": [
    "#imports\n",
    "\n",
    "import pandas as pd\n",
    "import numpy as np\n",
    "import matplotlib.pyplot as plt\n",
    "import seaborn as sns"
   ]
  },
  {
   "cell_type": "code",
   "execution_count": 3,
   "id": "fc0bf2ca-98ce-4696-af3f-a657db1d6253",
   "metadata": {},
   "outputs": [],
   "source": [
    "import warnings\n",
    "warnings.filterwarnings('ignore')"
   ]
  },
  {
   "cell_type": "markdown",
   "id": "4906ba6f-1cf9-4f57-8318-121a2f7f60b6",
   "metadata": {},
   "source": [
    "## **<span style=\"color:blue;\">✔Let's get the Data</span>**"
   ]
  },
  {
   "cell_type": "code",
   "execution_count": 4,
   "id": "35b9473f-97ea-457e-a3b7-7938bd89f0f9",
   "metadata": {},
   "outputs": [
    {
     "data": {
      "text/html": [
       "<div>\n",
       "<style scoped>\n",
       "    .dataframe tbody tr th:only-of-type {\n",
       "        vertical-align: middle;\n",
       "    }\n",
       "\n",
       "    .dataframe tbody tr th {\n",
       "        vertical-align: top;\n",
       "    }\n",
       "\n",
       "    .dataframe thead th {\n",
       "        text-align: right;\n",
       "    }\n",
       "</style>\n",
       "<table border=\"1\" class=\"dataframe\">\n",
       "  <thead>\n",
       "    <tr style=\"text-align: right;\">\n",
       "      <th></th>\n",
       "      <th>Unnamed: 0</th>\n",
       "      <th>year</th>\n",
       "      <th>institute_type</th>\n",
       "      <th>round_no</th>\n",
       "      <th>quota</th>\n",
       "      <th>pool</th>\n",
       "      <th>institute_short</th>\n",
       "      <th>program_name</th>\n",
       "      <th>program_duration</th>\n",
       "      <th>degree_short</th>\n",
       "      <th>category</th>\n",
       "      <th>opening_rank</th>\n",
       "      <th>closing_rank</th>\n",
       "      <th>is_preparatory</th>\n",
       "    </tr>\n",
       "  </thead>\n",
       "  <tbody>\n",
       "    <tr>\n",
       "      <th>64953</th>\n",
       "      <td>64953</td>\n",
       "      <td>2021</td>\n",
       "      <td>NIT</td>\n",
       "      <td>1</td>\n",
       "      <td>JK</td>\n",
       "      <td>Female-Only</td>\n",
       "      <td>NIT-Srinagar</td>\n",
       "      <td>Electronics and Communication Engineering</td>\n",
       "      <td>4 Years</td>\n",
       "      <td>B.Tech</td>\n",
       "      <td>SC</td>\n",
       "      <td>14185</td>\n",
       "      <td>24048</td>\n",
       "      <td>0</td>\n",
       "    </tr>\n",
       "    <tr>\n",
       "      <th>64954</th>\n",
       "      <td>64954</td>\n",
       "      <td>2021</td>\n",
       "      <td>NIT</td>\n",
       "      <td>1</td>\n",
       "      <td>JK</td>\n",
       "      <td>Gender-Neutral</td>\n",
       "      <td>NIT-Srinagar</td>\n",
       "      <td>Electronics and Communication Engineering</td>\n",
       "      <td>4 Years</td>\n",
       "      <td>B.Tech</td>\n",
       "      <td>ST</td>\n",
       "      <td>2736</td>\n",
       "      <td>4171</td>\n",
       "      <td>0</td>\n",
       "    </tr>\n",
       "    <tr>\n",
       "      <th>64955</th>\n",
       "      <td>64955</td>\n",
       "      <td>2021</td>\n",
       "      <td>NIT</td>\n",
       "      <td>1</td>\n",
       "      <td>JK</td>\n",
       "      <td>Female-Only</td>\n",
       "      <td>NIT-Srinagar</td>\n",
       "      <td>Electronics and Communication Engineering</td>\n",
       "      <td>4 Years</td>\n",
       "      <td>B.Tech</td>\n",
       "      <td>ST</td>\n",
       "      <td>10870</td>\n",
       "      <td>10870</td>\n",
       "      <td>0</td>\n",
       "    </tr>\n",
       "    <tr>\n",
       "      <th>64956</th>\n",
       "      <td>64956</td>\n",
       "      <td>2021</td>\n",
       "      <td>NIT</td>\n",
       "      <td>1</td>\n",
       "      <td>LA</td>\n",
       "      <td>Gender-Neutral</td>\n",
       "      <td>NIT-Srinagar</td>\n",
       "      <td>Electronics and Communication Engineering</td>\n",
       "      <td>4 Years</td>\n",
       "      <td>B.Tech</td>\n",
       "      <td>GEN</td>\n",
       "      <td>166453</td>\n",
       "      <td>265454</td>\n",
       "      <td>0</td>\n",
       "    </tr>\n",
       "    <tr>\n",
       "      <th>64957</th>\n",
       "      <td>64957</td>\n",
       "      <td>2021</td>\n",
       "      <td>NIT</td>\n",
       "      <td>1</td>\n",
       "      <td>LA</td>\n",
       "      <td>Female-Only</td>\n",
       "      <td>NIT-Srinagar</td>\n",
       "      <td>Electronics and Communication Engineering</td>\n",
       "      <td>4 Years</td>\n",
       "      <td>B.Tech</td>\n",
       "      <td>GEN</td>\n",
       "      <td>215054</td>\n",
       "      <td>215054</td>\n",
       "      <td>0</td>\n",
       "    </tr>\n",
       "  </tbody>\n",
       "</table>\n",
       "</div>"
      ],
      "text/plain": [
       "       Unnamed: 0  year institute_type  round_no quota            pool  \\\n",
       "64953       64953  2021            NIT         1    JK     Female-Only   \n",
       "64954       64954  2021            NIT         1    JK  Gender-Neutral   \n",
       "64955       64955  2021            NIT         1    JK     Female-Only   \n",
       "64956       64956  2021            NIT         1    LA  Gender-Neutral   \n",
       "64957       64957  2021            NIT         1    LA     Female-Only   \n",
       "\n",
       "      institute_short                               program_name  \\\n",
       "64953    NIT-Srinagar  Electronics and Communication Engineering   \n",
       "64954    NIT-Srinagar  Electronics and Communication Engineering   \n",
       "64955    NIT-Srinagar  Electronics and Communication Engineering   \n",
       "64956    NIT-Srinagar  Electronics and Communication Engineering   \n",
       "64957    NIT-Srinagar  Electronics and Communication Engineering   \n",
       "\n",
       "      program_duration degree_short category  opening_rank  closing_rank  \\\n",
       "64953          4 Years       B.Tech       SC         14185         24048   \n",
       "64954          4 Years       B.Tech       ST          2736          4171   \n",
       "64955          4 Years       B.Tech       ST         10870         10870   \n",
       "64956          4 Years       B.Tech      GEN        166453        265454   \n",
       "64957          4 Years       B.Tech      GEN        215054        215054   \n",
       "\n",
       "       is_preparatory  \n",
       "64953               0  \n",
       "64954               0  \n",
       "64955               0  \n",
       "64956               0  \n",
       "64957               0  "
      ]
     },
     "execution_count": 4,
     "metadata": {},
     "output_type": "execute_result"
    }
   ],
   "source": [
    "# Read data in a dataframe\n",
    "\n",
    "# A DataFrame is a data structure that organizes data into a 2-dimensional table of rows and columns, much like a spreadsheet. \n",
    "\n",
    "df = pd.read_csv(r\"C:\\Users\\aditya arav\\Desktop\\college-predictor-rakeshranjan/iit-and-nit-colleges-admission-criteria-version-2.csv\")\n",
    "df.tail()"
   ]
  },
  {
   "cell_type": "code",
   "execution_count": 8,
   "id": "ac2d5df7-ed05-45a8-95d5-9f2506525b4a",
   "metadata": {},
   "outputs": [
    {
     "data": {
      "text/html": [
       "<div>\n",
       "<style scoped>\n",
       "    .dataframe tbody tr th:only-of-type {\n",
       "        vertical-align: middle;\n",
       "    }\n",
       "\n",
       "    .dataframe tbody tr th {\n",
       "        vertical-align: top;\n",
       "    }\n",
       "\n",
       "    .dataframe thead th {\n",
       "        text-align: right;\n",
       "    }\n",
       "</style>\n",
       "<table border=\"1\" class=\"dataframe\">\n",
       "  <thead>\n",
       "    <tr style=\"text-align: right;\">\n",
       "      <th></th>\n",
       "      <th>Unnamed: 0</th>\n",
       "      <th>year</th>\n",
       "      <th>institute_type</th>\n",
       "      <th>round_no</th>\n",
       "      <th>quota</th>\n",
       "      <th>pool</th>\n",
       "      <th>institute_short</th>\n",
       "      <th>program_name</th>\n",
       "      <th>program_duration</th>\n",
       "      <th>degree_short</th>\n",
       "      <th>category</th>\n",
       "      <th>opening_rank</th>\n",
       "      <th>closing_rank</th>\n",
       "      <th>is_preparatory</th>\n",
       "    </tr>\n",
       "  </thead>\n",
       "  <tbody>\n",
       "    <tr>\n",
       "      <th>32951</th>\n",
       "      <td>32951</td>\n",
       "      <td>2016</td>\n",
       "      <td>NIT</td>\n",
       "      <td>6</td>\n",
       "      <td>OS</td>\n",
       "      <td>Gender-Neutral</td>\n",
       "      <td>NIT-Uttarakhand</td>\n",
       "      <td>Civil Engineering</td>\n",
       "      <td>4 Years</td>\n",
       "      <td>B.Tech</td>\n",
       "      <td>SC</td>\n",
       "      <td>2865</td>\n",
       "      <td>3526</td>\n",
       "      <td>0</td>\n",
       "    </tr>\n",
       "    <tr>\n",
       "      <th>25270</th>\n",
       "      <td>25270</td>\n",
       "      <td>2021</td>\n",
       "      <td>IIT</td>\n",
       "      <td>1</td>\n",
       "      <td>AI</td>\n",
       "      <td>Gender-Neutral</td>\n",
       "      <td>IIT-(ISM) Dhanbad</td>\n",
       "      <td>Mathematics and Computing</td>\n",
       "      <td>5 Years</td>\n",
       "      <td>Int M.Tech</td>\n",
       "      <td>SC</td>\n",
       "      <td>563</td>\n",
       "      <td>1199</td>\n",
       "      <td>0</td>\n",
       "    </tr>\n",
       "    <tr>\n",
       "      <th>41519</th>\n",
       "      <td>41519</td>\n",
       "      <td>2021</td>\n",
       "      <td>NIT</td>\n",
       "      <td>1</td>\n",
       "      <td>OS</td>\n",
       "      <td>Female-Only</td>\n",
       "      <td>NIT-Jalandhar</td>\n",
       "      <td>Bio Technology</td>\n",
       "      <td>4 Years</td>\n",
       "      <td>B.Tech</td>\n",
       "      <td>GEN-EWS</td>\n",
       "      <td>7579</td>\n",
       "      <td>7579</td>\n",
       "      <td>0</td>\n",
       "    </tr>\n",
       "    <tr>\n",
       "      <th>25456</th>\n",
       "      <td>25456</td>\n",
       "      <td>2021</td>\n",
       "      <td>IIT</td>\n",
       "      <td>1</td>\n",
       "      <td>AI</td>\n",
       "      <td>Gender-Neutral</td>\n",
       "      <td>IIT-(ISM) Dhanbad</td>\n",
       "      <td>Mining Engineering</td>\n",
       "      <td>4 Years</td>\n",
       "      <td>B.Tech</td>\n",
       "      <td>GEN-EWS</td>\n",
       "      <td>1612</td>\n",
       "      <td>1817</td>\n",
       "      <td>0</td>\n",
       "    </tr>\n",
       "    <tr>\n",
       "      <th>61149</th>\n",
       "      <td>61149</td>\n",
       "      <td>2021</td>\n",
       "      <td>NIT</td>\n",
       "      <td>1</td>\n",
       "      <td>HS</td>\n",
       "      <td>Gender-Neutral</td>\n",
       "      <td>NIT-Rourkela</td>\n",
       "      <td>Architecture</td>\n",
       "      <td>5 Years</td>\n",
       "      <td>B.Arch</td>\n",
       "      <td>OBC-NCL</td>\n",
       "      <td>565</td>\n",
       "      <td>753</td>\n",
       "      <td>0</td>\n",
       "    </tr>\n",
       "    <tr>\n",
       "      <th>8862</th>\n",
       "      <td>8862</td>\n",
       "      <td>2020</td>\n",
       "      <td>IIT</td>\n",
       "      <td>6</td>\n",
       "      <td>AI</td>\n",
       "      <td>Gender-Neutral</td>\n",
       "      <td>IIT-Guwahati</td>\n",
       "      <td>Civil Engineering</td>\n",
       "      <td>4 Years</td>\n",
       "      <td>B.Tech</td>\n",
       "      <td>GEN-PWD</td>\n",
       "      <td>152</td>\n",
       "      <td>152</td>\n",
       "      <td>0</td>\n",
       "    </tr>\n",
       "    <tr>\n",
       "      <th>18817</th>\n",
       "      <td>18817</td>\n",
       "      <td>2021</td>\n",
       "      <td>IIT</td>\n",
       "      <td>1</td>\n",
       "      <td>AI</td>\n",
       "      <td>Gender-Neutral</td>\n",
       "      <td>IIT-Bhubaneswar</td>\n",
       "      <td>Electrical Engineering</td>\n",
       "      <td>4 Years</td>\n",
       "      <td>B.Tech</td>\n",
       "      <td>GEN-PWD</td>\n",
       "      <td>148</td>\n",
       "      <td>148</td>\n",
       "      <td>1</td>\n",
       "    </tr>\n",
       "    <tr>\n",
       "      <th>27881</th>\n",
       "      <td>27881</td>\n",
       "      <td>2021</td>\n",
       "      <td>IIT</td>\n",
       "      <td>2</td>\n",
       "      <td>AI</td>\n",
       "      <td>Gender-Neutral</td>\n",
       "      <td>IIT-Kharagpur</td>\n",
       "      <td>Agricultural and Food Engineering</td>\n",
       "      <td>4 Years</td>\n",
       "      <td>B.Tech</td>\n",
       "      <td>GEN-EWS</td>\n",
       "      <td>1222</td>\n",
       "      <td>1326</td>\n",
       "      <td>0</td>\n",
       "    </tr>\n",
       "  </tbody>\n",
       "</table>\n",
       "</div>"
      ],
      "text/plain": [
       "       Unnamed: 0  year institute_type  round_no quota            pool  \\\n",
       "32951       32951  2016            NIT         6    OS  Gender-Neutral   \n",
       "25270       25270  2021            IIT         1    AI  Gender-Neutral   \n",
       "41519       41519  2021            NIT         1    OS     Female-Only   \n",
       "25456       25456  2021            IIT         1    AI  Gender-Neutral   \n",
       "61149       61149  2021            NIT         1    HS  Gender-Neutral   \n",
       "8862         8862  2020            IIT         6    AI  Gender-Neutral   \n",
       "18817       18817  2021            IIT         1    AI  Gender-Neutral   \n",
       "27881       27881  2021            IIT         2    AI  Gender-Neutral   \n",
       "\n",
       "         institute_short                       program_name program_duration  \\\n",
       "32951    NIT-Uttarakhand                  Civil Engineering          4 Years   \n",
       "25270  IIT-(ISM) Dhanbad          Mathematics and Computing          5 Years   \n",
       "41519      NIT-Jalandhar                     Bio Technology          4 Years   \n",
       "25456  IIT-(ISM) Dhanbad                 Mining Engineering          4 Years   \n",
       "61149       NIT-Rourkela                       Architecture          5 Years   \n",
       "8862        IIT-Guwahati                  Civil Engineering          4 Years   \n",
       "18817    IIT-Bhubaneswar             Electrical Engineering          4 Years   \n",
       "27881      IIT-Kharagpur  Agricultural and Food Engineering          4 Years   \n",
       "\n",
       "      degree_short category  opening_rank  closing_rank  is_preparatory  \n",
       "32951       B.Tech       SC          2865          3526               0  \n",
       "25270   Int M.Tech       SC           563          1199               0  \n",
       "41519       B.Tech  GEN-EWS          7579          7579               0  \n",
       "25456       B.Tech  GEN-EWS          1612          1817               0  \n",
       "61149       B.Arch  OBC-NCL           565           753               0  \n",
       "8862        B.Tech  GEN-PWD           152           152               0  \n",
       "18817       B.Tech  GEN-PWD           148           148               1  \n",
       "27881       B.Tech  GEN-EWS          1222          1326               0  "
      ]
     },
     "execution_count": 8,
     "metadata": {},
     "output_type": "execute_result"
    }
   ],
   "source": [
    "df.sample(n=8)"
   ]
  },
  {
   "cell_type": "markdown",
   "id": "989df499-4889-4778-9c5c-95ccc4c73882",
   "metadata": {},
   "source": [
    "## **<span style=\"color:blue;\">✔Exploring the Data</span>**"
   ]
  },
  {
   "cell_type": "code",
   "execution_count": 10,
   "id": "be3d2251-e92e-43f7-8c9b-e3b706c1ce74",
   "metadata": {},
   "outputs": [
    {
     "name": "stdout",
     "output_type": "stream",
     "text": [
      "<class 'pandas.core.frame.DataFrame'>\n",
      "RangeIndex: 64958 entries, 0 to 64957\n",
      "Data columns (total 14 columns):\n",
      " #   Column            Non-Null Count  Dtype \n",
      "---  ------            --------------  ----- \n",
      " 0   Unnamed: 0        64958 non-null  int64 \n",
      " 1   year              64958 non-null  int64 \n",
      " 2   institute_type    64958 non-null  object\n",
      " 3   round_no          64958 non-null  int64 \n",
      " 4   quota             64958 non-null  object\n",
      " 5   pool              64958 non-null  object\n",
      " 6   institute_short   64958 non-null  object\n",
      " 7   program_name      64958 non-null  object\n",
      " 8   program_duration  64958 non-null  object\n",
      " 9   degree_short      64958 non-null  object\n",
      " 10  category          64958 non-null  object\n",
      " 11  opening_rank      64958 non-null  int64 \n",
      " 12  closing_rank      64958 non-null  int64 \n",
      " 13  is_preparatory    64958 non-null  int64 \n",
      "dtypes: int64(6), object(8)\n",
      "memory usage: 6.9+ MB\n"
     ]
    }
   ],
   "source": [
    "df.info()"
   ]
  },
  {
   "cell_type": "code",
   "execution_count": 11,
   "id": "a49ecfd1-93fd-4e6a-bfb9-42785ed07c3f",
   "metadata": {},
   "outputs": [
    {
     "data": {
      "text/html": [
       "<div>\n",
       "<style scoped>\n",
       "    .dataframe tbody tr th:only-of-type {\n",
       "        vertical-align: middle;\n",
       "    }\n",
       "\n",
       "    .dataframe tbody tr th {\n",
       "        vertical-align: top;\n",
       "    }\n",
       "\n",
       "    .dataframe thead th {\n",
       "        text-align: right;\n",
       "    }\n",
       "</style>\n",
       "<table border=\"1\" class=\"dataframe\">\n",
       "  <thead>\n",
       "    <tr style=\"text-align: right;\">\n",
       "      <th></th>\n",
       "      <th>Unnamed: 0</th>\n",
       "      <th>year</th>\n",
       "      <th>round_no</th>\n",
       "      <th>opening_rank</th>\n",
       "      <th>closing_rank</th>\n",
       "      <th>is_preparatory</th>\n",
       "    </tr>\n",
       "  </thead>\n",
       "  <tbody>\n",
       "    <tr>\n",
       "      <th>count</th>\n",
       "      <td>64958.00000</td>\n",
       "      <td>64958.000000</td>\n",
       "      <td>64958.000000</td>\n",
       "      <td>6.495800e+04</td>\n",
       "      <td>6.495800e+04</td>\n",
       "      <td>64958.000000</td>\n",
       "    </tr>\n",
       "    <tr>\n",
       "      <th>mean</th>\n",
       "      <td>32478.50000</td>\n",
       "      <td>2020.421580</td>\n",
       "      <td>2.609348</td>\n",
       "      <td>8.259642e+03</td>\n",
       "      <td>1.070497e+04</td>\n",
       "      <td>0.047631</td>\n",
       "    </tr>\n",
       "    <tr>\n",
       "      <th>std</th>\n",
       "      <td>18751.90373</td>\n",
       "      <td>1.149762</td>\n",
       "      <td>2.422558</td>\n",
       "      <td>2.679448e+04</td>\n",
       "      <td>3.788101e+04</td>\n",
       "      <td>0.212985</td>\n",
       "    </tr>\n",
       "    <tr>\n",
       "      <th>min</th>\n",
       "      <td>0.00000</td>\n",
       "      <td>2016.000000</td>\n",
       "      <td>1.000000</td>\n",
       "      <td>0.000000e+00</td>\n",
       "      <td>0.000000e+00</td>\n",
       "      <td>0.000000</td>\n",
       "    </tr>\n",
       "    <tr>\n",
       "      <th>25%</th>\n",
       "      <td>16239.25000</td>\n",
       "      <td>2020.000000</td>\n",
       "      <td>1.000000</td>\n",
       "      <td>6.710000e+02</td>\n",
       "      <td>8.320000e+02</td>\n",
       "      <td>0.000000</td>\n",
       "    </tr>\n",
       "    <tr>\n",
       "      <th>50%</th>\n",
       "      <td>32478.50000</td>\n",
       "      <td>2021.000000</td>\n",
       "      <td>1.000000</td>\n",
       "      <td>2.309000e+03</td>\n",
       "      <td>2.764500e+03</td>\n",
       "      <td>0.000000</td>\n",
       "    </tr>\n",
       "    <tr>\n",
       "      <th>75%</th>\n",
       "      <td>48717.75000</td>\n",
       "      <td>2021.000000</td>\n",
       "      <td>6.000000</td>\n",
       "      <td>6.932000e+03</td>\n",
       "      <td>8.190000e+03</td>\n",
       "      <td>0.000000</td>\n",
       "    </tr>\n",
       "    <tr>\n",
       "      <th>max</th>\n",
       "      <td>64957.00000</td>\n",
       "      <td>2021.000000</td>\n",
       "      <td>7.000000</td>\n",
       "      <td>1.082601e+06</td>\n",
       "      <td>1.144790e+06</td>\n",
       "      <td>1.000000</td>\n",
       "    </tr>\n",
       "  </tbody>\n",
       "</table>\n",
       "</div>"
      ],
      "text/plain": [
       "        Unnamed: 0          year      round_no  opening_rank  closing_rank  \\\n",
       "count  64958.00000  64958.000000  64958.000000  6.495800e+04  6.495800e+04   \n",
       "mean   32478.50000   2020.421580      2.609348  8.259642e+03  1.070497e+04   \n",
       "std    18751.90373      1.149762      2.422558  2.679448e+04  3.788101e+04   \n",
       "min        0.00000   2016.000000      1.000000  0.000000e+00  0.000000e+00   \n",
       "25%    16239.25000   2020.000000      1.000000  6.710000e+02  8.320000e+02   \n",
       "50%    32478.50000   2021.000000      1.000000  2.309000e+03  2.764500e+03   \n",
       "75%    48717.75000   2021.000000      6.000000  6.932000e+03  8.190000e+03   \n",
       "max    64957.00000   2021.000000      7.000000  1.082601e+06  1.144790e+06   \n",
       "\n",
       "       is_preparatory  \n",
       "count    64958.000000  \n",
       "mean         0.047631  \n",
       "std          0.212985  \n",
       "min          0.000000  \n",
       "25%          0.000000  \n",
       "50%          0.000000  \n",
       "75%          0.000000  \n",
       "max          1.000000  "
      ]
     },
     "execution_count": 11,
     "metadata": {},
     "output_type": "execute_result"
    }
   ],
   "source": [
    "df.describe()"
   ]
  },
  {
   "cell_type": "code",
   "execution_count": 12,
   "id": "8f277482-f852-4fd9-ba66-07891b2cbb5b",
   "metadata": {},
   "outputs": [
    {
     "data": {
      "text/plain": [
       "(64958, 14)"
      ]
     },
     "execution_count": 12,
     "metadata": {},
     "output_type": "execute_result"
    }
   ],
   "source": [
    "df.shape"
   ]
  },
  {
   "cell_type": "code",
   "execution_count": 13,
   "id": "5f43c28b-404d-4042-b459-61b6834d829d",
   "metadata": {},
   "outputs": [
    {
     "data": {
      "text/html": [
       "<div>\n",
       "<style scoped>\n",
       "    .dataframe tbody tr th:only-of-type {\n",
       "        vertical-align: middle;\n",
       "    }\n",
       "\n",
       "    .dataframe tbody tr th {\n",
       "        vertical-align: top;\n",
       "    }\n",
       "\n",
       "    .dataframe thead th {\n",
       "        text-align: right;\n",
       "    }\n",
       "</style>\n",
       "<table border=\"1\" class=\"dataframe\">\n",
       "  <thead>\n",
       "    <tr style=\"text-align: right;\">\n",
       "      <th></th>\n",
       "      <th>0</th>\n",
       "    </tr>\n",
       "  </thead>\n",
       "  <tbody>\n",
       "    <tr>\n",
       "      <th>0</th>\n",
       "      <td>Unnamed: 0</td>\n",
       "    </tr>\n",
       "    <tr>\n",
       "      <th>1</th>\n",
       "      <td>year</td>\n",
       "    </tr>\n",
       "    <tr>\n",
       "      <th>2</th>\n",
       "      <td>institute_type</td>\n",
       "    </tr>\n",
       "    <tr>\n",
       "      <th>3</th>\n",
       "      <td>round_no</td>\n",
       "    </tr>\n",
       "    <tr>\n",
       "      <th>4</th>\n",
       "      <td>quota</td>\n",
       "    </tr>\n",
       "    <tr>\n",
       "      <th>5</th>\n",
       "      <td>pool</td>\n",
       "    </tr>\n",
       "    <tr>\n",
       "      <th>6</th>\n",
       "      <td>institute_short</td>\n",
       "    </tr>\n",
       "    <tr>\n",
       "      <th>7</th>\n",
       "      <td>program_name</td>\n",
       "    </tr>\n",
       "    <tr>\n",
       "      <th>8</th>\n",
       "      <td>program_duration</td>\n",
       "    </tr>\n",
       "    <tr>\n",
       "      <th>9</th>\n",
       "      <td>degree_short</td>\n",
       "    </tr>\n",
       "    <tr>\n",
       "      <th>10</th>\n",
       "      <td>category</td>\n",
       "    </tr>\n",
       "    <tr>\n",
       "      <th>11</th>\n",
       "      <td>opening_rank</td>\n",
       "    </tr>\n",
       "    <tr>\n",
       "      <th>12</th>\n",
       "      <td>closing_rank</td>\n",
       "    </tr>\n",
       "    <tr>\n",
       "      <th>13</th>\n",
       "      <td>is_preparatory</td>\n",
       "    </tr>\n",
       "  </tbody>\n",
       "</table>\n",
       "</div>"
      ],
      "text/plain": [
       "                   0\n",
       "0         Unnamed: 0\n",
       "1               year\n",
       "2     institute_type\n",
       "3           round_no\n",
       "4              quota\n",
       "5               pool\n",
       "6    institute_short\n",
       "7       program_name\n",
       "8   program_duration\n",
       "9       degree_short\n",
       "10          category\n",
       "11      opening_rank\n",
       "12      closing_rank\n",
       "13    is_preparatory"
      ]
     },
     "execution_count": 13,
     "metadata": {},
     "output_type": "execute_result"
    }
   ],
   "source": [
    "# Columns of the Dataset\n",
    "\n",
    "Columns = pd.DataFrame(df.columns)\n",
    "Columns"
   ]
  },
  {
   "cell_type": "code",
   "execution_count": 16,
   "id": "f65bbe2a-4a0a-490c-ae19-c758683aea91",
   "metadata": {},
   "outputs": [
    {
     "data": {
      "text/html": [
       "<div>\n",
       "<style scoped>\n",
       "    .dataframe tbody tr th:only-of-type {\n",
       "        vertical-align: middle;\n",
       "    }\n",
       "\n",
       "    .dataframe tbody tr th {\n",
       "        vertical-align: top;\n",
       "    }\n",
       "\n",
       "    .dataframe thead th {\n",
       "        text-align: right;\n",
       "    }\n",
       "</style>\n",
       "<table border=\"1\" class=\"dataframe\">\n",
       "  <thead>\n",
       "    <tr style=\"text-align: right;\">\n",
       "      <th></th>\n",
       "      <th>0</th>\n",
       "    </tr>\n",
       "  </thead>\n",
       "  <tbody>\n",
       "    <tr>\n",
       "      <th>0</th>\n",
       "      <td>AI</td>\n",
       "    </tr>\n",
       "    <tr>\n",
       "      <th>1</th>\n",
       "      <td>HS</td>\n",
       "    </tr>\n",
       "    <tr>\n",
       "      <th>2</th>\n",
       "      <td>OS</td>\n",
       "    </tr>\n",
       "    <tr>\n",
       "      <th>3</th>\n",
       "      <td>AP</td>\n",
       "    </tr>\n",
       "    <tr>\n",
       "      <th>4</th>\n",
       "      <td>GO</td>\n",
       "    </tr>\n",
       "    <tr>\n",
       "      <th>5</th>\n",
       "      <td>JK</td>\n",
       "    </tr>\n",
       "    <tr>\n",
       "      <th>6</th>\n",
       "      <td>LA</td>\n",
       "    </tr>\n",
       "  </tbody>\n",
       "</table>\n",
       "</div>"
      ],
      "text/plain": [
       "    0\n",
       "0  AI\n",
       "1  HS\n",
       "2  OS\n",
       "3  AP\n",
       "4  GO\n",
       "5  JK\n",
       "6  LA"
      ]
     },
     "execution_count": 16,
     "metadata": {},
     "output_type": "execute_result"
    }
   ],
   "source": [
    "# Unique values in quota\n",
    "\n",
    "Quota = pd.DataFrame(df[\"quota\"].unique())\n",
    "Quota"
   ]
  },
  {
   "cell_type": "code",
   "execution_count": 17,
   "id": "f5a63cdf-41da-4218-a8d0-1a8e004b2746",
   "metadata": {},
   "outputs": [
    {
     "data": {
      "text/html": [
       "<div>\n",
       "<style scoped>\n",
       "    .dataframe tbody tr th:only-of-type {\n",
       "        vertical-align: middle;\n",
       "    }\n",
       "\n",
       "    .dataframe tbody tr th {\n",
       "        vertical-align: top;\n",
       "    }\n",
       "\n",
       "    .dataframe thead th {\n",
       "        text-align: right;\n",
       "    }\n",
       "</style>\n",
       "<table border=\"1\" class=\"dataframe\">\n",
       "  <thead>\n",
       "    <tr style=\"text-align: right;\">\n",
       "      <th></th>\n",
       "      <th>0</th>\n",
       "    </tr>\n",
       "  </thead>\n",
       "  <tbody>\n",
       "    <tr>\n",
       "      <th>0</th>\n",
       "      <td>Gender-Neutral</td>\n",
       "    </tr>\n",
       "    <tr>\n",
       "      <th>1</th>\n",
       "      <td>Female-Only</td>\n",
       "    </tr>\n",
       "  </tbody>\n",
       "</table>\n",
       "</div>"
      ],
      "text/plain": [
       "                0\n",
       "0  Gender-Neutral\n",
       "1     Female-Only"
      ]
     },
     "execution_count": 17,
     "metadata": {},
     "output_type": "execute_result"
    }
   ],
   "source": [
    "# Unique values in pool\n",
    "\n",
    "Pool = pd.DataFrame(df[\"pool\"].unique())\n",
    "Pool"
   ]
  },
  {
   "cell_type": "code",
   "execution_count": 18,
   "id": "b31f830d-1364-4877-86ac-a7d25580ff4b",
   "metadata": {},
   "outputs": [
    {
     "data": {
      "text/html": [
       "<div>\n",
       "<style scoped>\n",
       "    .dataframe tbody tr th:only-of-type {\n",
       "        vertical-align: middle;\n",
       "    }\n",
       "\n",
       "    .dataframe tbody tr th {\n",
       "        vertical-align: top;\n",
       "    }\n",
       "\n",
       "    .dataframe thead th {\n",
       "        text-align: right;\n",
       "    }\n",
       "</style>\n",
       "<table border=\"1\" class=\"dataframe\">\n",
       "  <thead>\n",
       "    <tr style=\"text-align: right;\">\n",
       "      <th></th>\n",
       "      <th>Institute</th>\n",
       "    </tr>\n",
       "  </thead>\n",
       "  <tbody>\n",
       "    <tr>\n",
       "      <th>0</th>\n",
       "      <td>IIT-Bombay</td>\n",
       "    </tr>\n",
       "    <tr>\n",
       "      <th>1</th>\n",
       "      <td>IIT-Delhi</td>\n",
       "    </tr>\n",
       "    <tr>\n",
       "      <th>2</th>\n",
       "      <td>IIT-Kharagpur</td>\n",
       "    </tr>\n",
       "    <tr>\n",
       "      <th>3</th>\n",
       "      <td>IIT-Kanpur</td>\n",
       "    </tr>\n",
       "    <tr>\n",
       "      <th>4</th>\n",
       "      <td>IIT-Madras</td>\n",
       "    </tr>\n",
       "    <tr>\n",
       "      <th>5</th>\n",
       "      <td>IIT-Roorkee</td>\n",
       "    </tr>\n",
       "    <tr>\n",
       "      <th>6</th>\n",
       "      <td>IIT-Guwahati</td>\n",
       "    </tr>\n",
       "    <tr>\n",
       "      <th>7</th>\n",
       "      <td>IIT-Indore</td>\n",
       "    </tr>\n",
       "    <tr>\n",
       "      <th>8</th>\n",
       "      <td>IIT-Hyderabad</td>\n",
       "    </tr>\n",
       "    <tr>\n",
       "      <th>9</th>\n",
       "      <td>IIT-(BHU) Varanasi</td>\n",
       "    </tr>\n",
       "    <tr>\n",
       "      <th>10</th>\n",
       "      <td>IIT-Patna</td>\n",
       "    </tr>\n",
       "    <tr>\n",
       "      <th>11</th>\n",
       "      <td>IIT-(ISM) Dhanbad</td>\n",
       "    </tr>\n",
       "    <tr>\n",
       "      <th>12</th>\n",
       "      <td>IIT-Bhubaneswar</td>\n",
       "    </tr>\n",
       "    <tr>\n",
       "      <th>13</th>\n",
       "      <td>IIT-Mandi</td>\n",
       "    </tr>\n",
       "    <tr>\n",
       "      <th>14</th>\n",
       "      <td>IIT-Gandhinagar</td>\n",
       "    </tr>\n",
       "    <tr>\n",
       "      <th>15</th>\n",
       "      <td>IIT-Ropar</td>\n",
       "    </tr>\n",
       "    <tr>\n",
       "      <th>16</th>\n",
       "      <td>IIT-Jodhpur</td>\n",
       "    </tr>\n",
       "    <tr>\n",
       "      <th>17</th>\n",
       "      <td>IIT-Tirupati</td>\n",
       "    </tr>\n",
       "    <tr>\n",
       "      <th>18</th>\n",
       "      <td>IIT-Bhilai</td>\n",
       "    </tr>\n",
       "    <tr>\n",
       "      <th>19</th>\n",
       "      <td>IIT-Dharwad</td>\n",
       "    </tr>\n",
       "    <tr>\n",
       "      <th>20</th>\n",
       "      <td>IIT-Goa</td>\n",
       "    </tr>\n",
       "    <tr>\n",
       "      <th>21</th>\n",
       "      <td>IIT-Jammu</td>\n",
       "    </tr>\n",
       "    <tr>\n",
       "      <th>22</th>\n",
       "      <td>IIT-Palakkad</td>\n",
       "    </tr>\n",
       "    <tr>\n",
       "      <th>23</th>\n",
       "      <td>NIT-Warangal</td>\n",
       "    </tr>\n",
       "    <tr>\n",
       "      <th>24</th>\n",
       "      <td>NIT-Tiruchirappalli</td>\n",
       "    </tr>\n",
       "    <tr>\n",
       "      <th>25</th>\n",
       "      <td>NIT-Uttarakhand</td>\n",
       "    </tr>\n",
       "    <tr>\n",
       "      <th>26</th>\n",
       "      <td>NIT-Surat</td>\n",
       "    </tr>\n",
       "    <tr>\n",
       "      <th>27</th>\n",
       "      <td>NIT-Nagpur</td>\n",
       "    </tr>\n",
       "    <tr>\n",
       "      <th>28</th>\n",
       "      <td>NIT-Andhra-Pradesh</td>\n",
       "    </tr>\n",
       "    <tr>\n",
       "      <th>29</th>\n",
       "      <td>NIT-Jalandhar</td>\n",
       "    </tr>\n",
       "    <tr>\n",
       "      <th>30</th>\n",
       "      <td>NIT-Jaipur</td>\n",
       "    </tr>\n",
       "    <tr>\n",
       "      <th>31</th>\n",
       "      <td>NIT-Bhopal</td>\n",
       "    </tr>\n",
       "    <tr>\n",
       "      <th>32</th>\n",
       "      <td>NIT-Allahabad</td>\n",
       "    </tr>\n",
       "    <tr>\n",
       "      <th>33</th>\n",
       "      <td>NIT-Calicut</td>\n",
       "    </tr>\n",
       "    <tr>\n",
       "      <th>34</th>\n",
       "      <td>NIT-Agartala</td>\n",
       "    </tr>\n",
       "    <tr>\n",
       "      <th>35</th>\n",
       "      <td>NIT-Delhi</td>\n",
       "    </tr>\n",
       "    <tr>\n",
       "      <th>36</th>\n",
       "      <td>NIT-Durgapur</td>\n",
       "    </tr>\n",
       "    <tr>\n",
       "      <th>37</th>\n",
       "      <td>NIT-Goa</td>\n",
       "    </tr>\n",
       "    <tr>\n",
       "      <th>38</th>\n",
       "      <td>NIT-Hamirpur</td>\n",
       "    </tr>\n",
       "    <tr>\n",
       "      <th>39</th>\n",
       "      <td>NIT-Meghalaya</td>\n",
       "    </tr>\n",
       "    <tr>\n",
       "      <th>40</th>\n",
       "      <td>NIT-Karnataka-Surathkal</td>\n",
       "    </tr>\n",
       "    <tr>\n",
       "      <th>41</th>\n",
       "      <td>NIT-Patna</td>\n",
       "    </tr>\n",
       "    <tr>\n",
       "      <th>42</th>\n",
       "      <td>NIT-Nagaland</td>\n",
       "    </tr>\n",
       "    <tr>\n",
       "      <th>43</th>\n",
       "      <td>NIT-Puducherry</td>\n",
       "    </tr>\n",
       "    <tr>\n",
       "      <th>44</th>\n",
       "      <td>NIT-Raipur</td>\n",
       "    </tr>\n",
       "    <tr>\n",
       "      <th>45</th>\n",
       "      <td>NIT-Sikkim</td>\n",
       "    </tr>\n",
       "    <tr>\n",
       "      <th>46</th>\n",
       "      <td>NIT-Arunachal-Pradesh</td>\n",
       "    </tr>\n",
       "    <tr>\n",
       "      <th>47</th>\n",
       "      <td>NIT-Jamshedpur</td>\n",
       "    </tr>\n",
       "    <tr>\n",
       "      <th>48</th>\n",
       "      <td>NIT-Kurukshetra</td>\n",
       "    </tr>\n",
       "    <tr>\n",
       "      <th>49</th>\n",
       "      <td>NIT-Manipur</td>\n",
       "    </tr>\n",
       "    <tr>\n",
       "      <th>50</th>\n",
       "      <td>NIT-Mizoram</td>\n",
       "    </tr>\n",
       "    <tr>\n",
       "      <th>51</th>\n",
       "      <td>NIT-Rourkela</td>\n",
       "    </tr>\n",
       "    <tr>\n",
       "      <th>52</th>\n",
       "      <td>NIT-Silchar</td>\n",
       "    </tr>\n",
       "    <tr>\n",
       "      <th>53</th>\n",
       "      <td>NIT-Srinagar</td>\n",
       "    </tr>\n",
       "  </tbody>\n",
       "</table>\n",
       "</div>"
      ],
      "text/plain": [
       "                  Institute\n",
       "0                IIT-Bombay\n",
       "1                 IIT-Delhi\n",
       "2             IIT-Kharagpur\n",
       "3                IIT-Kanpur\n",
       "4                IIT-Madras\n",
       "5               IIT-Roorkee\n",
       "6              IIT-Guwahati\n",
       "7                IIT-Indore\n",
       "8             IIT-Hyderabad\n",
       "9        IIT-(BHU) Varanasi\n",
       "10                IIT-Patna\n",
       "11        IIT-(ISM) Dhanbad\n",
       "12          IIT-Bhubaneswar\n",
       "13                IIT-Mandi\n",
       "14          IIT-Gandhinagar\n",
       "15                IIT-Ropar\n",
       "16              IIT-Jodhpur\n",
       "17             IIT-Tirupati\n",
       "18               IIT-Bhilai\n",
       "19              IIT-Dharwad\n",
       "20                  IIT-Goa\n",
       "21                IIT-Jammu\n",
       "22             IIT-Palakkad\n",
       "23             NIT-Warangal\n",
       "24      NIT-Tiruchirappalli\n",
       "25          NIT-Uttarakhand\n",
       "26                NIT-Surat\n",
       "27               NIT-Nagpur\n",
       "28       NIT-Andhra-Pradesh\n",
       "29            NIT-Jalandhar\n",
       "30               NIT-Jaipur\n",
       "31               NIT-Bhopal\n",
       "32            NIT-Allahabad\n",
       "33              NIT-Calicut\n",
       "34             NIT-Agartala\n",
       "35                NIT-Delhi\n",
       "36             NIT-Durgapur\n",
       "37                  NIT-Goa\n",
       "38             NIT-Hamirpur\n",
       "39            NIT-Meghalaya\n",
       "40  NIT-Karnataka-Surathkal\n",
       "41                NIT-Patna\n",
       "42             NIT-Nagaland\n",
       "43           NIT-Puducherry\n",
       "44               NIT-Raipur\n",
       "45               NIT-Sikkim\n",
       "46    NIT-Arunachal-Pradesh\n",
       "47           NIT-Jamshedpur\n",
       "48          NIT-Kurukshetra\n",
       "49              NIT-Manipur\n",
       "50              NIT-Mizoram\n",
       "51             NIT-Rourkela\n",
       "52              NIT-Silchar\n",
       "53             NIT-Srinagar"
      ]
     },
     "execution_count": 18,
     "metadata": {},
     "output_type": "execute_result"
    }
   ],
   "source": [
    "# Various institutions \n",
    "\n",
    "Institutes = pd.DataFrame(df[\"institute_short\"].unique(), columns = {'Institute':0})\n",
    "Institutes "
   ]
  },
  {
   "cell_type": "code",
   "execution_count": 19,
   "id": "c4c5b42e-0c64-49fd-9775-4471c0a281ca",
   "metadata": {},
   "outputs": [
    {
     "data": {
      "text/html": [
       "<div>\n",
       "<style scoped>\n",
       "    .dataframe tbody tr th:only-of-type {\n",
       "        vertical-align: middle;\n",
       "    }\n",
       "\n",
       "    .dataframe tbody tr th {\n",
       "        vertical-align: top;\n",
       "    }\n",
       "\n",
       "    .dataframe thead th {\n",
       "        text-align: right;\n",
       "    }\n",
       "</style>\n",
       "<table border=\"1\" class=\"dataframe\">\n",
       "  <thead>\n",
       "    <tr style=\"text-align: right;\">\n",
       "      <th></th>\n",
       "      <th>program</th>\n",
       "    </tr>\n",
       "  </thead>\n",
       "  <tbody>\n",
       "    <tr>\n",
       "      <th>0</th>\n",
       "      <td>Aerospace Engineering</td>\n",
       "    </tr>\n",
       "    <tr>\n",
       "      <th>1</th>\n",
       "      <td>Chemical Engineering</td>\n",
       "    </tr>\n",
       "    <tr>\n",
       "      <th>2</th>\n",
       "      <td>Chemistry</td>\n",
       "    </tr>\n",
       "    <tr>\n",
       "      <th>3</th>\n",
       "      <td>Civil Engineering</td>\n",
       "    </tr>\n",
       "    <tr>\n",
       "      <th>4</th>\n",
       "      <td>Computer Science and Engineering</td>\n",
       "    </tr>\n",
       "    <tr>\n",
       "      <th>...</th>\n",
       "      <td>...</td>\n",
       "    </tr>\n",
       "    <tr>\n",
       "      <th>125</th>\n",
       "      <td>Food Process Engineering</td>\n",
       "    </tr>\n",
       "    <tr>\n",
       "      <th>126</th>\n",
       "      <td>Ceramic Engineering and M.Tech Industrial Ceramic</td>\n",
       "    </tr>\n",
       "    <tr>\n",
       "      <th>127</th>\n",
       "      <td>Life Science</td>\n",
       "    </tr>\n",
       "    <tr>\n",
       "      <th>128</th>\n",
       "      <td>Mathematics and Data Science</td>\n",
       "    </tr>\n",
       "    <tr>\n",
       "      <th>129</th>\n",
       "      <td>Computational Mathematics</td>\n",
       "    </tr>\n",
       "  </tbody>\n",
       "</table>\n",
       "<p>130 rows × 1 columns</p>\n",
       "</div>"
      ],
      "text/plain": [
       "                                               program\n",
       "0                                Aerospace Engineering\n",
       "1                                 Chemical Engineering\n",
       "2                                            Chemistry\n",
       "3                                    Civil Engineering\n",
       "4                     Computer Science and Engineering\n",
       "..                                                 ...\n",
       "125                           Food Process Engineering\n",
       "126  Ceramic Engineering and M.Tech Industrial Ceramic\n",
       "127                                       Life Science\n",
       "128                       Mathematics and Data Science\n",
       "129                          Computational Mathematics\n",
       "\n",
       "[130 rows x 1 columns]"
      ]
     },
     "execution_count": 19,
     "metadata": {},
     "output_type": "execute_result"
    }
   ],
   "source": [
    "# Various types of programs\n",
    "\n",
    "Programs = pd.DataFrame(df[\"program_name\"].unique(), columns = {'program':0})\n",
    "Programs"
   ]
  },
  {
   "cell_type": "code",
   "execution_count": 20,
   "id": "9914ebf1-088a-4b5f-8aa7-aa0fef1dde54",
   "metadata": {},
   "outputs": [
    {
     "data": {
      "text/plain": [
       "program_name\n",
       "Computer Science and Engineering                                                                          8425\n",
       "Mechanical Engineering                                                                                    6739\n",
       "Civil Engineering                                                                                         6381\n",
       "Electrical Engineering                                                                                    5764\n",
       "Electronics and Communication Engineering                                                                 4804\n",
       "                                                                                                          ... \n",
       "Agricultural and Food Engineering with M.Tech. in any of the listedspecializations                           7\n",
       "Industrial and Systems Engineering with M.Tech. in Industrial and SystemsEngineering and Management          7\n",
       "Manufacturing Science and Engineering with M.Tech. in Industrial andSystems Engineering and Management       7\n",
       "Engineering Physics and M.Tech. with specialization in Nano Science                                          5\n",
       "Civil Engineering with M.Tech. in Structural Engineering                                                     4\n",
       "Name: count, Length: 130, dtype: int64"
      ]
     },
     "execution_count": 20,
     "metadata": {},
     "output_type": "execute_result"
    }
   ],
   "source": [
    "df.program_name.value_counts()"
   ]
  },
  {
   "cell_type": "code",
   "execution_count": 21,
   "id": "fc1b5e68-e053-437e-a22c-c9217ad998bf",
   "metadata": {},
   "outputs": [
    {
     "data": {
      "text/plain": [
       "0"
      ]
     },
     "execution_count": 21,
     "metadata": {},
     "output_type": "execute_result"
    }
   ],
   "source": [
    "df[\"program_name\"].isnull().sum()"
   ]
  },
  {
   "cell_type": "code",
   "execution_count": 22,
   "id": "2c7c66ce-d968-4a6f-b677-d9c63bf7024b",
   "metadata": {},
   "outputs": [
    {
     "data": {
      "text/html": [
       "<div>\n",
       "<style scoped>\n",
       "    .dataframe tbody tr th:only-of-type {\n",
       "        vertical-align: middle;\n",
       "    }\n",
       "\n",
       "    .dataframe tbody tr th {\n",
       "        vertical-align: top;\n",
       "    }\n",
       "\n",
       "    .dataframe thead th {\n",
       "        text-align: right;\n",
       "    }\n",
       "</style>\n",
       "<table border=\"1\" class=\"dataframe\">\n",
       "  <thead>\n",
       "    <tr style=\"text-align: right;\">\n",
       "      <th></th>\n",
       "      <th>Degree</th>\n",
       "    </tr>\n",
       "  </thead>\n",
       "  <tbody>\n",
       "    <tr>\n",
       "      <th>0</th>\n",
       "      <td>B.Tech</td>\n",
       "    </tr>\n",
       "    <tr>\n",
       "      <th>1</th>\n",
       "      <td>BSc</td>\n",
       "    </tr>\n",
       "    <tr>\n",
       "      <th>2</th>\n",
       "      <td>B.Tech + M.Tech (IDD)</td>\n",
       "    </tr>\n",
       "    <tr>\n",
       "      <th>3</th>\n",
       "      <td>Int MSc.</td>\n",
       "    </tr>\n",
       "    <tr>\n",
       "      <th>4</th>\n",
       "      <td>B.Arch</td>\n",
       "    </tr>\n",
       "    <tr>\n",
       "      <th>5</th>\n",
       "      <td>Int M.Tech</td>\n",
       "    </tr>\n",
       "    <tr>\n",
       "      <th>6</th>\n",
       "      <td>B.Pharm</td>\n",
       "    </tr>\n",
       "    <tr>\n",
       "      <th>7</th>\n",
       "      <td>B.Pharm + M.Pharm</td>\n",
       "    </tr>\n",
       "    <tr>\n",
       "      <th>8</th>\n",
       "      <td>BS + MS (IDD)</td>\n",
       "    </tr>\n",
       "    <tr>\n",
       "      <th>9</th>\n",
       "      <td>B.Plan</td>\n",
       "    </tr>\n",
       "    <tr>\n",
       "      <th>10</th>\n",
       "      <td>Btech + M.Tech (IDD)</td>\n",
       "    </tr>\n",
       "    <tr>\n",
       "      <th>11</th>\n",
       "      <td>BSc + MSc (IDD)</td>\n",
       "    </tr>\n",
       "  </tbody>\n",
       "</table>\n",
       "</div>"
      ],
      "text/plain": [
       "                   Degree\n",
       "0                  B.Tech\n",
       "1                     BSc\n",
       "2   B.Tech + M.Tech (IDD)\n",
       "3                Int MSc.\n",
       "4                  B.Arch\n",
       "5              Int M.Tech\n",
       "6                 B.Pharm\n",
       "7       B.Pharm + M.Pharm\n",
       "8           BS + MS (IDD)\n",
       "9                  B.Plan\n",
       "10   Btech + M.Tech (IDD)\n",
       "11        BSc + MSc (IDD)"
      ]
     },
     "execution_count": 22,
     "metadata": {},
     "output_type": "execute_result"
    }
   ],
   "source": [
    "# Various degrees\n",
    "\n",
    "Degree = pd.DataFrame(df[\"degree_short\"].unique(), columns = {'Degree':0})\n",
    "Degree"
   ]
  },
  {
   "cell_type": "code",
   "execution_count": 23,
   "id": "554522cd-36cc-445a-9d99-04b9b18d9288",
   "metadata": {},
   "outputs": [
    {
     "data": {
      "text/plain": [
       "0"
      ]
     },
     "execution_count": 23,
     "metadata": {},
     "output_type": "execute_result"
    }
   ],
   "source": [
    "df[\"degree_short\"].isnull().sum()"
   ]
  },
  {
   "cell_type": "code",
   "execution_count": 24,
   "id": "865836e8-3ac7-4d50-a5ab-89df26189dde",
   "metadata": {},
   "outputs": [],
   "source": [
    "# Correcting the values\n",
    "\n",
    "df.loc[df[\"degree_short\"] == \"Int Msc.\", \"degree_short\"] = \"Int MSc.\""
   ]
  },
  {
   "cell_type": "code",
   "execution_count": 25,
   "id": "75d14be0-0439-417d-9abe-e21fb9a8e170",
   "metadata": {},
   "outputs": [
    {
     "data": {
      "text/plain": [
       "12"
      ]
     },
     "execution_count": 25,
     "metadata": {},
     "output_type": "execute_result"
    }
   ],
   "source": [
    "df[\"degree_short\"].nunique()"
   ]
  },
  {
   "cell_type": "code",
   "execution_count": 26,
   "id": "ae96cc27-81e0-46bd-9044-8f4730f25d37",
   "metadata": {},
   "outputs": [
    {
     "data": {
      "text/html": [
       "<div>\n",
       "<style scoped>\n",
       "    .dataframe tbody tr th:only-of-type {\n",
       "        vertical-align: middle;\n",
       "    }\n",
       "\n",
       "    .dataframe tbody tr th {\n",
       "        vertical-align: top;\n",
       "    }\n",
       "\n",
       "    .dataframe thead th {\n",
       "        text-align: right;\n",
       "    }\n",
       "</style>\n",
       "<table border=\"1\" class=\"dataframe\">\n",
       "  <thead>\n",
       "    <tr style=\"text-align: right;\">\n",
       "      <th></th>\n",
       "      <th>0</th>\n",
       "    </tr>\n",
       "  </thead>\n",
       "  <tbody>\n",
       "    <tr>\n",
       "      <th>0</th>\n",
       "      <td>6</td>\n",
       "    </tr>\n",
       "    <tr>\n",
       "      <th>1</th>\n",
       "      <td>7</td>\n",
       "    </tr>\n",
       "    <tr>\n",
       "      <th>2</th>\n",
       "      <td>1</td>\n",
       "    </tr>\n",
       "    <tr>\n",
       "      <th>3</th>\n",
       "      <td>2</td>\n",
       "    </tr>\n",
       "  </tbody>\n",
       "</table>\n",
       "</div>"
      ],
      "text/plain": [
       "   0\n",
       "0  6\n",
       "1  7\n",
       "2  1\n",
       "3  2"
      ]
     },
     "execution_count": 26,
     "metadata": {},
     "output_type": "execute_result"
    }
   ],
   "source": [
    "Round = pd.DataFrame(df[\"round_no\"].unique())\n",
    "Round"
   ]
  },
  {
   "cell_type": "code",
   "execution_count": 27,
   "id": "ef390d31-20b3-4323-882a-3839976e6dd7",
   "metadata": {},
   "outputs": [
    {
     "data": {
      "text/html": [
       "<div>\n",
       "<style scoped>\n",
       "    .dataframe tbody tr th:only-of-type {\n",
       "        vertical-align: middle;\n",
       "    }\n",
       "\n",
       "    .dataframe tbody tr th {\n",
       "        vertical-align: top;\n",
       "    }\n",
       "\n",
       "    .dataframe thead th {\n",
       "        text-align: right;\n",
       "    }\n",
       "</style>\n",
       "<table border=\"1\" class=\"dataframe\">\n",
       "  <thead>\n",
       "    <tr style=\"text-align: right;\">\n",
       "      <th></th>\n",
       "      <th>0</th>\n",
       "    </tr>\n",
       "  </thead>\n",
       "  <tbody>\n",
       "    <tr>\n",
       "      <th>0</th>\n",
       "      <td>GEN</td>\n",
       "    </tr>\n",
       "    <tr>\n",
       "      <th>1</th>\n",
       "      <td>OBC-NCL</td>\n",
       "    </tr>\n",
       "    <tr>\n",
       "      <th>2</th>\n",
       "      <td>SC</td>\n",
       "    </tr>\n",
       "    <tr>\n",
       "      <th>3</th>\n",
       "      <td>ST</td>\n",
       "    </tr>\n",
       "    <tr>\n",
       "      <th>4</th>\n",
       "      <td>GEN-PWD</td>\n",
       "    </tr>\n",
       "    <tr>\n",
       "      <th>5</th>\n",
       "      <td>OBC-NCL-PWD</td>\n",
       "    </tr>\n",
       "    <tr>\n",
       "      <th>6</th>\n",
       "      <td>SC-PWD</td>\n",
       "    </tr>\n",
       "    <tr>\n",
       "      <th>7</th>\n",
       "      <td>ST-PWD</td>\n",
       "    </tr>\n",
       "    <tr>\n",
       "      <th>8</th>\n",
       "      <td>GEN-EWS</td>\n",
       "    </tr>\n",
       "    <tr>\n",
       "      <th>9</th>\n",
       "      <td>GEN-EWS-PWD</td>\n",
       "    </tr>\n",
       "  </tbody>\n",
       "</table>\n",
       "</div>"
      ],
      "text/plain": [
       "             0\n",
       "0          GEN\n",
       "1      OBC-NCL\n",
       "2           SC\n",
       "3           ST\n",
       "4      GEN-PWD\n",
       "5  OBC-NCL-PWD\n",
       "6       SC-PWD\n",
       "7       ST-PWD\n",
       "8      GEN-EWS\n",
       "9  GEN-EWS-PWD"
      ]
     },
     "execution_count": 27,
     "metadata": {},
     "output_type": "execute_result"
    }
   ],
   "source": [
    "# Unique values in category\n",
    "\n",
    "Category = pd.DataFrame(df[\"category\"].unique())\n",
    "Category"
   ]
  },
  {
   "cell_type": "code",
   "execution_count": 30,
   "id": "e76c40a2-76e5-451e-b290-ae507ec19f0e",
   "metadata": {},
   "outputs": [
    {
     "data": {
      "text/plain": [
       "<Axes: >"
      ]
     },
     "execution_count": 30,
     "metadata": {},
     "output_type": "execute_result"
    },
    {
     "data": {
      "image/png": "[encoded data removed]",
      "text/plain": [
       "<Figure size 640x480 with 2 Axes>"
      ]
     },
     "metadata": {},
     "output_type": "display_data"
    }
   ],
   "source": [
    "# Checking the null values in dataset\n",
    "\n",
    "sns.heatmap(df.isnull(),yticklabels=False,cmap='viridis', alpha = 0.5)"
   ]
  },
  {
   "cell_type": "markdown",
   "id": "ee22ac70-3d31-4706-bfbc-25398028df62",
   "metadata": {},
   "source": [
    "# **<span style=\"color:blue;\">✔Let's see what all we can explore in this dataset</span>**\n",
    "\n",
    "> 1. What does reservation say about admission to these colleges?\n",
    "\n",
    "> 2. What is the most optimum Opening and closing rank in overall years?\n",
    "\n",
    "> 3. Which universities/colleges provide preparatory courses?\n",
    "\n",
    "> 4. Which category gets most preference for prepratory courses? \n",
    "\n",
    "> 5. Institutes and degrees they provide?\n",
    "\n",
    "> 6. Which are those institutes that provide 4 year and 5 year courses?"
   ]
  },
  {
   "cell_type": "code",
   "execution_count": 35,
   "id": "5f54fbc4-2277-4f66-a137-74f8e140c7eb",
   "metadata": {},
   "outputs": [
    {
     "data": {
      "image/png": "[encoded data removed]",
      "text/plain": [
       "<Figure size 2000x500 with 1 Axes>"
      ]
     },
     "metadata": {},
     "output_type": "display_data"
    }
   ],
   "source": [
    "#Let's check out All Institutes in the dataset\n",
    "\n",
    "plt.figure(figsize=(20,5))\n",
    "institutes = df.groupby(['institute_short']).size().plot(kind = 'bar', color = \"purple\", alpha = 0.5)\n",
    "plt.show()"
   ]
  },
  {
   "cell_type": "code",
   "execution_count": 39,
   "id": "eafb165b-7f00-49a2-975c-6a24cb65989a",
   "metadata": {},
   "outputs": [
    {
     "data": {
      "text/plain": [
       "Text(0, 0.5, 'students')"
      ]
     },
     "execution_count": 39,
     "metadata": {},
     "output_type": "execute_result"
    },
    {
     "data": {
      "image/png": "[encoded data removed]",
      "text/plain": [
       "<Figure size 2000x500 with 1 Axes>"
      ]
     },
     "metadata": {},
     "output_type": "display_data"
    }
   ],
   "source": [
    "# Students admitted per year\n",
    "\n",
    "plt.figure(figsize=(20,5))\n",
    "plt.title('student per year')\n",
    "sns.lineplot(x=['2021','2020','2019','2018','2017','2016'],y=df['year'].value_counts(), color = \"blue\", alpha = 0.5)\n",
    "plt.ylabel('students')"
   ]
  },
  {
   "cell_type": "markdown",
   "id": "a8c72689-0588-43ad-a0dc-7566db82692b",
   "metadata": {},
   "source": [
    "## **<span style=\"color:blue;\">✔What does reservation say about admit to these colleges?</span>**"
   ]
  },
  {
   "cell_type": "code",
   "execution_count": 40,
   "id": "d775a47a-0d91-472b-be9e-9dfe9b731021",
   "metadata": {},
   "outputs": [
    {
     "data": {
      "text/plain": [
       "quota\n",
       "AI    32905\n",
       "OS    16962\n",
       "HS    14291\n",
       "JK      393\n",
       "GO      275\n",
       "AP       72\n",
       "LA       60\n",
       "Name: count, dtype: int64"
      ]
     },
     "execution_count": 40,
     "metadata": {},
     "output_type": "execute_result"
    }
   ],
   "source": [
    "max_quota = df['quota'].value_counts()\n",
    "max_quota"
   ]
  },
  {
   "cell_type": "markdown",
   "id": "1fd8b948-71b4-4ce7-8013-dc6817e9b21a",
   "metadata": {},
   "source": [
    "##### *<span style=\"color:darkred;\">Since, AI (all India) reservation has max counts - it can be a factor contributing to admissions.</span>*"
   ]
  },
  {
   "cell_type": "code",
   "execution_count": 49,
   "id": "367d4797-bb3d-487c-bec3-4acda684c1a0",
   "metadata": {},
   "outputs": [
    {
     "data": {
      "image/png": "[encoded data removed]",
      "text/plain": [
       "<Figure size 2000x500 with 1 Axes>"
      ]
     },
     "metadata": {},
     "output_type": "display_data"
    }
   ],
   "source": [
    "plt.figure(figsize=(20,5))\n",
    "plt.plot(max_quota, color=\"red\", alpha = 0.5)\n",
    "plt.show()"
   ]
  },
  {
   "cell_type": "code",
   "execution_count": 51,
   "id": "345381c9-14d2-43ee-9626-0d6d3b327b59",
   "metadata": {},
   "outputs": [
    {
     "data": {
      "image/png": "[encoded data removed]",
      "text/plain": [
       "<Figure size 2000x500 with 1 Axes>"
      ]
     },
     "metadata": {},
     "output_type": "display_data"
    }
   ],
   "source": [
    "#Yearly quota study\n",
    "\n",
    "plt.figure(figsize=(20,5))\n",
    "year_club = df.groupby(['year', 'quota']).size().plot(kind = 'bar', color = \"purple\", alpha = 0.5)"
   ]
  },
  {
   "cell_type": "markdown",
   "id": "a24223f5-72ba-48a4-9aab-0b6bb251792a",
   "metadata": {},
   "source": [
    "**<span style=\"color:#006600;\">From the above plot, we see that AI - all India quota covers maximum number of students followed by OS - Other State and HS - Home State.\n",
    "While the second plot depicts that AI(All India) quota played an important role from 2016 to 2018.</span>**"
   ]
  },
  {
   "cell_type": "markdown",
   "id": "75d691e2-69df-49f1-a4ea-9b9ae2bf3bf2",
   "metadata": {},
   "source": [
    "## **<span style=\"color:blue;\">✔ What is the most optimum Opening and closing rank in overall years??</span>**"
   ]
  },
  {
   "cell_type": "markdown",
   "id": "7f6f5f3f-76af-4226-97d8-01b64f1a016c",
   "metadata": {},
   "source": [
    "------------------------------------------------------------------- **Opening Ranks** ---------------------------------------------------------------------------"
   ]
  },
  {
   "cell_type": "code",
   "execution_count": 53,
   "id": "99b48260-6ead-413e-80e7-f0ea4f2461e2",
   "metadata": {},
   "outputs": [
    {
     "name": "stdout",
     "output_type": "stream",
     "text": [
      "Average opening rank over the years has been -  8260\n"
     ]
    }
   ],
   "source": [
    "avg_opening_rank = df['opening_rank'].mean(axis = 0)\n",
    "avg_open_rank = round(avg_opening_rank)\n",
    "print(\"Average opening rank over the years has been - \", avg_open_rank)"
   ]
  },
  {
   "cell_type": "code",
   "execution_count": 54,
   "id": "647dba84-fbb5-4c7f-9d25-30676106c1d1",
   "metadata": {},
   "outputs": [
    {
     "name": "stdout",
     "output_type": "stream",
     "text": [
      "Max opening rank over the years has been -  1082601\n"
     ]
    }
   ],
   "source": [
    "max_opening_rank = df['opening_rank'].max(axis = 0)\n",
    "max_open_rank = round(max_opening_rank)\n",
    "print(\"Max opening rank over the years has been - \", max_open_rank)"
   ]
  },
  {
   "cell_type": "code",
   "execution_count": 55,
   "id": "19a84ab5-19e2-4ee1-8589-3185ab65c4fc",
   "metadata": {},
   "outputs": [
    {
     "name": "stdout",
     "output_type": "stream",
     "text": [
      "Min opening rank over the years has been -  0\n"
     ]
    }
   ],
   "source": [
    "min_opening_rank = df['opening_rank'].min(axis = 0)\n",
    "min_open_rank = round(min_opening_rank)\n",
    "print(\"Min opening rank over the years has been - \", min_open_rank)"
   ]
  },
  {
   "cell_type": "markdown",
   "id": "c7262d3e-ec80-49f7-9acf-285da25d2e0f",
   "metadata": {},
   "source": [
    "-------------------------------------------------------------------- **Closing Ranks** ---------------------------------------------------------------------------"
   ]
  },
  {
   "cell_type": "code",
   "execution_count": 56,
   "id": "09b29480-a6e2-4987-86da-47a8d410178a",
   "metadata": {},
   "outputs": [
    {
     "name": "stdout",
     "output_type": "stream",
     "text": [
      "Average closing rank over the years has been -  10705\n"
     ]
    }
   ],
   "source": [
    "avg_closing_rank = round(df['closing_rank'].mean(axis = 0))\n",
    "print(\"Average closing rank over the years has been - \", avg_closing_rank)"
   ]
  },
  {
   "cell_type": "code",
   "execution_count": 57,
   "id": "b3fdcde6-e162-42ed-a4e0-06944a5cf9c7",
   "metadata": {},
   "outputs": [
    {
     "name": "stdout",
     "output_type": "stream",
     "text": [
      "Max closing rank over the years has been -  1144790\n"
     ]
    }
   ],
   "source": [
    "max_closing_rank = df['closing_rank'].max(axis = 0)\n",
    "max_close_rank = round(max_closing_rank)\n",
    "print(\"Max closing rank over the years has been - \", max_close_rank)"
   ]
  },
  {
   "cell_type": "code",
   "execution_count": 58,
   "id": "5a7e5c2f-0188-4d1a-9f78-af462f2b3be2",
   "metadata": {},
   "outputs": [
    {
     "name": "stdout",
     "output_type": "stream",
     "text": [
      "Min closing rank over the years has been -  0\n"
     ]
    }
   ],
   "source": [
    "min_closing_rank = df['closing_rank'].min(axis = 0)\n",
    "min_close_rank = round(min_closing_rank)\n",
    "print(\"Min closing rank over the years has been - \", min_close_rank)"
   ]
  },
  {
   "cell_type": "markdown",
   "id": "96646030-f2e6-4a3b-a702-b71288760892",
   "metadata": {},
   "source": [
    "**<span style=\"color:darkred;\">From analysis of Opening and Closing ranks, we can say that on average if you score a rank around ~8000 then you might become eligible. While keeping in mind the quota factor, the maximum and minimum ranks still vary on a range of large scale till about 10 lakhs.</span>**"
   ]
  },
  {
   "cell_type": "markdown",
   "id": "447e9f64-3d0a-4284-bddc-33adad2f3cbf",
   "metadata": {},
   "source": [
    "## **<span style=\"color:blue;\">✔Which universities/colleges provide preparatory courses? </span>**"
   ]
  },
  {
   "cell_type": "markdown",
   "id": "ea33efca-77e8-4e31-af39-860461e6b7b8",
   "metadata": {},
   "source": [
    "The IIT Preparatory Course comprises of courses in Mathematics, Physics, Chemistry and English for two semesters after which the candidates are evaluated."
   ]
  },
  {
   "cell_type": "code",
   "execution_count": 65,
   "id": "5bcd68e7-d466-491b-8b91-dc98bcb34c71",
   "metadata": {},
   "outputs": [
    {
     "data": {
      "image/png": "[encoded data removed]",
      "text/plain": [
       "<Figure size 2000x500 with 1 Axes>"
      ]
     },
     "metadata": {},
     "output_type": "display_data"
    }
   ],
   "source": [
    "# Which universities/colleges provide preparatory courses (represented by 1)\n",
    "\n",
    "plt.figure(figsize=(20,5))\n",
    "prep_true = df.loc[df['is_preparatory'] == 1, 'institute_short'].value_counts()\n",
    "plt.plot(prep_true, 'o', color = \"#008000\", alpha = 0.5)\n",
    "plt.xticks(rotation = 60)\n",
    "plt.show() "
   ]
  },
  {
   "cell_type": "markdown",
   "id": "00cfb4d4-92dd-4946-af08-21f34aab507f",
   "metadata": {},
   "source": [
    "**<span style=\"color:darkred;\"> From the above chart, we found some of the colleges that provide preparatory courses. Here IIT Kharagpur provides maximum number of preparatory courses to students followed by IIT Roorkee and BHU.</span>**"
   ]
  },
  {
   "cell_type": "markdown",
   "id": "d3b32f8d-05a8-49b8-af35-c62002bdb45d",
   "metadata": {},
   "source": [
    "## **<span style=\"color:blue;\">✔Which category gets most prefrence for prepratory courses?</span>**"
   ]
  },
  {
   "cell_type": "code",
   "execution_count": 68,
   "id": "d7a4a203-05c3-427c-a495-7a764b3b8211",
   "metadata": {},
   "outputs": [
    {
     "data": {
      "image/png": "[encoded data removed]",
      "text/plain": [
       "<Figure size 2000x500 with 1 Axes>"
      ]
     },
     "metadata": {},
     "output_type": "display_data"
    }
   ],
   "source": [
    "plt.figure(figsize=(20,5))\n",
    "category_true = df.loc[df['is_preparatory'] == 1, 'category'].value_counts()\n",
    "category_plot = category_true.plot(kind = 'bar', color = \"purple\", alpha = 0.5)\n",
    "\n",
    "plt.xticks(rotation = 360)\n",
    "plt.legend()\n",
    "plt.show()"
   ]
  },
  {
   "cell_type": "markdown",
   "id": "e4d99171-ba92-425d-9142-b7114e3cc2a5",
   "metadata": {},
   "source": [
    "## **<span style=\"color:blue;\">✔Institutes and degrees they provide </span>**"
   ]
  },
  {
   "cell_type": "code",
   "execution_count": 70,
   "id": "817bfadf-6228-414b-bc52-a4194fbb679e",
   "metadata": {},
   "outputs": [
    {
     "data": {
      "image/png": "[encoded data removed]",
      "text/plain": [
       "<Figure size 2000x500 with 1 Axes>"
      ]
     },
     "metadata": {},
     "output_type": "display_data"
    }
   ],
   "source": [
    "plt.figure(figsize=(20,5))\n",
    "year_club = df.groupby(['degree_short','institute_short']).institute_short.count().head(20).plot(kind = 'bar',color = \"purple\", alpha = 0.5)\n",
    "plt.legend()\n",
    "plt.show()"
   ]
  },
  {
   "cell_type": "markdown",
   "id": "8e77fb3b-5c0d-4be0-84bb-81a88cdd13b6",
   "metadata": {},
   "source": [
    "**<span style=\"color:darkred;\">As per above bar graph, B.Tech still seems to be the choice of most students when it comes to getting admission in IIT or NITs.</span>**"
   ]
  },
  {
   "cell_type": "markdown",
   "id": "9e732204-19bf-4330-ba02-d878df20d076",
   "metadata": {},
   "source": [
    "## **<span style=\"color:blue;\">✔Institutes who provide 4 year and 5 year courses.</span>**"
   ]
  },
  {
   "cell_type": "code",
   "execution_count": 73,
   "id": "05642f46-9b45-4292-a68c-f8363b6c50fc",
   "metadata": {},
   "outputs": [
    {
     "data": {
      "image/png": "[encoded data removed]",
      "text/plain": [
       "<Figure size 2000x500 with 1 Axes>"
      ]
     },
     "metadata": {},
     "output_type": "display_data"
    }
   ],
   "source": [
    "#Institutes with 4 year courses\n",
    "\n",
    "plt.figure(figsize=(20,5))\n",
    "\n",
    "years_true = df.loc[df['program_duration'] == '4 Years', 'institute_short'].value_counts().head(20).plot(kind = 'bar',color = \"purple\", alpha = 0.5)\n",
    "\n",
    "plt.legend()\n",
    "plt.show()"
   ]
  },
  {
   "cell_type": "markdown",
   "id": "54bdf0dd-5056-4e24-842d-de6dac04a109",
   "metadata": {},
   "source": [
    "**<span style=\"color:darkred;\">IIT Kharagpur has most 4 years courses to offer followed by IIT-Delhi and IIT-Kanpur.</span>**"
   ]
  },
  {
   "cell_type": "code",
   "execution_count": 74,
   "id": "dc6626e8-eb54-491d-a0b1-6740daba9967",
   "metadata": {},
   "outputs": [
    {
     "data": {
      "image/png": "[encoded data removed]",
      "text/plain": [
       "<Figure size 2000x500 with 1 Axes>"
      ]
     },
     "metadata": {},
     "output_type": "display_data"
    }
   ],
   "source": [
    "#Institutes with 5 year courses\n",
    "\n",
    "plt.figure(figsize=(20,5))\n",
    "\n",
    "years_true = df.loc[df['program_duration'] == '5 Years', 'institute_short'].value_counts().head(20).plot(kind = 'bar',color = \"purple\", alpha = 0.5)\n",
    "plt.legend()\n",
    "plt.show()"
   ]
  },
  {
   "cell_type": "markdown",
   "id": "55a5eac6-1ed8-4840-84e5-b5da1ae14df5",
   "metadata": {},
   "source": [
    "**<span style=\"color:darkred;\">IIT Kharagpur has most 5 years courses to offer followed by IIT-Varanasi and IIT-Roorkee.</span>**"
   ]
  },
  {
   "cell_type": "markdown",
   "id": "01737a6b-7572-418c-beaa-12f71aab2838",
   "metadata": {},
   "source": [
    "# **<span style=\"color:blue;\">✅Evaluation of the model</span>**\n",
    "\n",
    "Here we evaluate the model and find its error and accuracy rate based on the given feature and target data. We also find out that how the model works when we give it a specific type of data for the prediction."
   ]
  },
  {
   "cell_type": "code",
   "execution_count": 75,
   "id": "e9fca9cc-11e9-4166-a96f-ee50b15842ae",
   "metadata": {},
   "outputs": [
    {
     "data": {
      "text/html": [
       "<div>\n",
       "<style scoped>\n",
       "    .dataframe tbody tr th:only-of-type {\n",
       "        vertical-align: middle;\n",
       "    }\n",
       "\n",
       "    .dataframe tbody tr th {\n",
       "        vertical-align: top;\n",
       "    }\n",
       "\n",
       "    .dataframe thead th {\n",
       "        text-align: right;\n",
       "    }\n",
       "</style>\n",
       "<table border=\"1\" class=\"dataframe\">\n",
       "  <thead>\n",
       "    <tr style=\"text-align: right;\">\n",
       "      <th></th>\n",
       "      <th>Unnamed: 0</th>\n",
       "      <th>year</th>\n",
       "      <th>institute_type</th>\n",
       "      <th>round_no</th>\n",
       "      <th>quota</th>\n",
       "      <th>pool</th>\n",
       "      <th>institute_short</th>\n",
       "      <th>program_name</th>\n",
       "      <th>program_duration</th>\n",
       "      <th>degree_short</th>\n",
       "      <th>category</th>\n",
       "      <th>opening_rank</th>\n",
       "      <th>closing_rank</th>\n",
       "      <th>is_preparatory</th>\n",
       "    </tr>\n",
       "  </thead>\n",
       "  <tbody>\n",
       "    <tr>\n",
       "      <th>0</th>\n",
       "      <td>0</td>\n",
       "      <td>2016</td>\n",
       "      <td>IIT</td>\n",
       "      <td>6</td>\n",
       "      <td>AI</td>\n",
       "      <td>Gender-Neutral</td>\n",
       "      <td>IIT-Bombay</td>\n",
       "      <td>Aerospace Engineering</td>\n",
       "      <td>4 Years</td>\n",
       "      <td>B.Tech</td>\n",
       "      <td>GEN</td>\n",
       "      <td>838</td>\n",
       "      <td>1841</td>\n",
       "      <td>0</td>\n",
       "    </tr>\n",
       "    <tr>\n",
       "      <th>1</th>\n",
       "      <td>1</td>\n",
       "      <td>2016</td>\n",
       "      <td>IIT</td>\n",
       "      <td>6</td>\n",
       "      <td>AI</td>\n",
       "      <td>Gender-Neutral</td>\n",
       "      <td>IIT-Bombay</td>\n",
       "      <td>Aerospace Engineering</td>\n",
       "      <td>4 Years</td>\n",
       "      <td>B.Tech</td>\n",
       "      <td>OBC-NCL</td>\n",
       "      <td>408</td>\n",
       "      <td>1098</td>\n",
       "      <td>0</td>\n",
       "    </tr>\n",
       "    <tr>\n",
       "      <th>2</th>\n",
       "      <td>2</td>\n",
       "      <td>2016</td>\n",
       "      <td>IIT</td>\n",
       "      <td>6</td>\n",
       "      <td>AI</td>\n",
       "      <td>Gender-Neutral</td>\n",
       "      <td>IIT-Bombay</td>\n",
       "      <td>Aerospace Engineering</td>\n",
       "      <td>4 Years</td>\n",
       "      <td>B.Tech</td>\n",
       "      <td>SC</td>\n",
       "      <td>297</td>\n",
       "      <td>468</td>\n",
       "      <td>0</td>\n",
       "    </tr>\n",
       "    <tr>\n",
       "      <th>3</th>\n",
       "      <td>3</td>\n",
       "      <td>2016</td>\n",
       "      <td>IIT</td>\n",
       "      <td>6</td>\n",
       "      <td>AI</td>\n",
       "      <td>Gender-Neutral</td>\n",
       "      <td>IIT-Bombay</td>\n",
       "      <td>Aerospace Engineering</td>\n",
       "      <td>4 Years</td>\n",
       "      <td>B.Tech</td>\n",
       "      <td>ST</td>\n",
       "      <td>79</td>\n",
       "      <td>145</td>\n",
       "      <td>0</td>\n",
       "    </tr>\n",
       "    <tr>\n",
       "      <th>4</th>\n",
       "      <td>4</td>\n",
       "      <td>2016</td>\n",
       "      <td>IIT</td>\n",
       "      <td>6</td>\n",
       "      <td>AI</td>\n",
       "      <td>Gender-Neutral</td>\n",
       "      <td>IIT-Bombay</td>\n",
       "      <td>Aerospace Engineering</td>\n",
       "      <td>4 Years</td>\n",
       "      <td>B.Tech</td>\n",
       "      <td>GEN-PWD</td>\n",
       "      <td>94</td>\n",
       "      <td>94</td>\n",
       "      <td>0</td>\n",
       "    </tr>\n",
       "  </tbody>\n",
       "</table>\n",
       "</div>"
      ],
      "text/plain": [
       "   Unnamed: 0  year institute_type  round_no quota            pool  \\\n",
       "0           0  2016            IIT         6    AI  Gender-Neutral   \n",
       "1           1  2016            IIT         6    AI  Gender-Neutral   \n",
       "2           2  2016            IIT         6    AI  Gender-Neutral   \n",
       "3           3  2016            IIT         6    AI  Gender-Neutral   \n",
       "4           4  2016            IIT         6    AI  Gender-Neutral   \n",
       "\n",
       "  institute_short           program_name program_duration degree_short  \\\n",
       "0      IIT-Bombay  Aerospace Engineering          4 Years       B.Tech   \n",
       "1      IIT-Bombay  Aerospace Engineering          4 Years       B.Tech   \n",
       "2      IIT-Bombay  Aerospace Engineering          4 Years       B.Tech   \n",
       "3      IIT-Bombay  Aerospace Engineering          4 Years       B.Tech   \n",
       "4      IIT-Bombay  Aerospace Engineering          4 Years       B.Tech   \n",
       "\n",
       "  category  opening_rank  closing_rank  is_preparatory  \n",
       "0      GEN           838          1841               0  \n",
       "1  OBC-NCL           408          1098               0  \n",
       "2       SC           297           468               0  \n",
       "3       ST            79           145               0  \n",
       "4  GEN-PWD            94            94               0  "
      ]
     },
     "execution_count": 75,
     "metadata": {},
     "output_type": "execute_result"
    }
   ],
   "source": [
    "eval_College = df\n",
    "eval_College.head()"
   ]
  },
  {
   "cell_type": "markdown",
   "id": "cef51787-3c60-4a84-9159-8910d3d568a9",
   "metadata": {},
   "source": [
    "## **<span style=\"color:blue;\">🔁Converting object values into numerical form</span>**\n",
    "\n",
    "**institute_type** - IIT : 0, NIT : 1\n",
    "\n",
    "**Quota** :-\n",
    "\n",
    "AI : All-India - 0\n",
    "\n",
    "HS : Home-State - 3\n",
    "\n",
    "OS : Other-State - 6\n",
    "\n",
    "AP : Andhra Pradesh - 1\n",
    "\n",
    "GO : Goa - 2\n",
    "\n",
    "JK : Jammu & Kashmir - 4\n",
    "\n",
    "LA : Ladakh - 5\n",
    "\n",
    "**Pool** - Gender-Neutral : 0, Female-only : 1\n",
    "\n",
    "**Category** :-\n",
    "\n",
    "GEN : General - 0\n",
    "\n",
    "OBC-NCL : Other Backward Classes-Non Creamy Layer - 4\n",
    "\n",
    "SC : Scheduled Castes - 6\n",
    "\n",
    "ST : Scheduled Tribes - 8\n",
    "\n",
    "GEN-PWD : General & Persons with Disabilities - 3\n",
    "\n",
    "OBC-NCL-PWD : Other Backward Classes & Persons with Disabilities - 5\n",
    "\n",
    "SC-PWD : Scheduled Castes & Persons with Disabilities - 7\n",
    "\n",
    "ST-PWD : Scheduled Tribes & Persons with Disabilities - 9\n",
    "\n",
    "GEN-EWS : General & Economically Weaker Section - 1\n",
    "\n",
    "GEN-EWS-PWD : General & Economically Weaker Section & Persons with Disability - 2"
   ]
  },
  {
   "cell_type": "code",
   "execution_count": 76,
   "id": "3867efea-f6af-46f5-832c-037d37b498b5",
   "metadata": {},
   "outputs": [
    {
     "data": {
      "text/plain": [
       "array([0, 1], dtype=int64)"
      ]
     },
     "execution_count": 76,
     "metadata": {},
     "output_type": "execute_result"
    }
   ],
   "source": [
    "# Changing Institute type\n",
    "\n",
    "eval_College['institute_type'] = [0 if x == 'IIT' else 1 for x in eval_College['institute_type']]\n",
    "eval_College['institute_type'].unique()"
   ]
  },
  {
   "cell_type": "code",
   "execution_count": 77,
   "id": "54f36fa9-46aa-471a-9f77-f17891faa922",
   "metadata": {},
   "outputs": [],
   "source": [
    "# importing library for encoding\n",
    "\n",
    "from sklearn.preprocessing import LabelEncoder\n"
   ]
  },
  {
   "cell_type": "code",
   "execution_count": 78,
   "id": "68d679b1-34a1-4ea2-b26d-54a5bd01af80",
   "metadata": {},
   "outputs": [
    {
     "data": {
      "text/plain": [
       "array([0, 3, 6, 1, 2, 4, 5])"
      ]
     },
     "execution_count": 78,
     "metadata": {},
     "output_type": "execute_result"
    }
   ],
   "source": [
    "# Labeling the quota values\n",
    "\n",
    "le = LabelEncoder()\n",
    "eval_College['quota'] = le.fit_transform(eval_College['quota'])\n",
    "eval_College['quota'].unique()"
   ]
  },
  {
   "cell_type": "code",
   "execution_count": 79,
   "id": "e7391289-4492-4e06-b1b2-f0ea31519028",
   "metadata": {},
   "outputs": [
    {
     "data": {
      "text/plain": [
       "array([0, 1], dtype=int64)"
      ]
     },
     "execution_count": 79,
     "metadata": {},
     "output_type": "execute_result"
    }
   ],
   "source": [
    "# changing the pool values\n",
    "\n",
    "eval_College['pool'] = [0 if x == 'Gender-Neutral' else 1 for x in eval_College['pool']]\n",
    "eval_College['pool'].unique()"
   ]
  },
  {
   "cell_type": "code",
   "execution_count": 80,
   "id": "9c8434b8-8a2c-4302-b8df-f3ae4295466b",
   "metadata": {},
   "outputs": [
    {
     "data": {
      "text/plain": [
       "array([0, 4, 6, 8, 3, 5, 7, 9, 1, 2])"
      ]
     },
     "execution_count": 80,
     "metadata": {},
     "output_type": "execute_result"
    }
   ],
   "source": [
    "# Labeling the categories\n",
    "\n",
    "eval_College['category']= le.fit_transform(eval_College['category'])\n",
    "eval_College['category'].unique()"
   ]
  },
  {
   "cell_type": "code",
   "execution_count": 81,
   "id": "a8bb4756-e56d-41ea-bdf6-8ede8ce379d6",
   "metadata": {},
   "outputs": [
    {
     "data": {
      "text/plain": [
       "array([ 4,  5, 15, 14, 16, 20,  9, 11, 10,  0, 19,  1,  3, 17,  7, 21, 13,\n",
       "       22,  2,  6,  8, 12, 18, 53, 51, 52, 50, 42, 25, 34, 33, 27, 24, 28,\n",
       "       23, 29, 30, 31, 32, 39, 36, 43, 41, 44, 45, 47, 26, 35, 37, 38, 40,\n",
       "       46, 48, 49])"
      ]
     },
     "execution_count": 81,
     "metadata": {},
     "output_type": "execute_result"
    }
   ],
   "source": [
    "# Labeling the Institute values\n",
    "\n",
    "eval_College['institute_short']= le.fit_transform(eval_College['institute_short'])\n",
    "eval_College['institute_short'].unique()"
   ]
  },
  {
   "cell_type": "code",
   "execution_count": 82,
   "id": "c3485520-df25-4b3e-bd95-692dc6f9b414",
   "metadata": {},
   "outputs": [
    {
     "data": {
      "text/plain": [
       "array([  0,  28,  31,  32,  42,  47,  51,  52,  64,  66,  67,  98, 101,\n",
       "       107, 108, 109,  14,  24,  48,  95, 126, 129,   1,   2,   4,   7,\n",
       "        37,  46,  54,  58,  59,  72,  79,  80,  83,  86, 114,  87, 104,\n",
       "       110, 116, 118, 122, 127,  20,  45,  90,  97,  18,  19,  65, 117,\n",
       "         6,  13,  57,  74,  75, 124,  29,  61,  68,  91,  15,  17,  26,\n",
       "        36,  53,  56,  76,  92, 105, 121,   5,  62,  70, 112, 115, 119,\n",
       "        33,  34,  99, 100, 120,  35,  49, 103, 111,  10,  71, 102, 106,\n",
       "         3,  60,  81,  88,   8,  16,  44,  11,  55,  50,  69,  89,  21,\n",
       "         9,  38, 113,  22,  43,  63, 128,  30,  94,  25,  39,  84, 125,\n",
       "        41,  93,  82,  78, 123,  23,  12,  77,  73,  27,  85,  96,  40])"
      ]
     },
     "execution_count": 82,
     "metadata": {},
     "output_type": "execute_result"
    }
   ],
   "source": [
    "# Labeling the Program Name values\n",
    "\n",
    "eval_College['program_name']= le.fit_transform(eval_College['program_name'])\n",
    "eval_College['program_name'].unique()"
   ]
  },
  {
   "cell_type": "code",
   "execution_count": 83,
   "id": "4453fbd1-6853-4a11-8d00-64beae7c894a",
   "metadata": {},
   "outputs": [
    {
     "data": {
      "text/plain": [
       "array([ 4,  7,  5, 11,  0, 10,  1,  2,  6,  3,  9,  8])"
      ]
     },
     "execution_count": 83,
     "metadata": {},
     "output_type": "execute_result"
    }
   ],
   "source": [
    "# Labeling the Degree values\n",
    "\n",
    "eval_College['degree_short']= le.fit_transform(eval_College['degree_short'])\n",
    "eval_College['degree_short'].unique()"
   ]
  },
  {
   "cell_type": "code",
   "execution_count": 84,
   "id": "776db108-11aa-4e85-8173-6853a0a54deb",
   "metadata": {},
   "outputs": [],
   "source": [
    "# Target data\n",
    "\n",
    "y = eval_College[['institute_short', 'degree_short', 'program_name']]"
   ]
  },
  {
   "cell_type": "code",
   "execution_count": 85,
   "id": "dab0ba39-4e90-488b-bbde-da1dfdd92dc8",
   "metadata": {},
   "outputs": [],
   "source": [
    "# Featured data\n",
    "\n",
    "X = eval_College[['category', 'quota', 'pool', 'institute_type', 'round_no',\n",
    "       'opening_rank', 'closing_rank']]"
   ]
  },
  {
   "cell_type": "code",
   "execution_count": 86,
   "id": "ffa8fc69-2d9a-4634-8121-eb19736c8e1f",
   "metadata": {},
   "outputs": [],
   "source": [
    "# Spilliting the data into training and testing dataset\n",
    "\n",
    "from sklearn.model_selection import train_test_split\n",
    "X_train, X_test, y_train, y_test = train_test_split(X, y, train_size = 0.8)"
   ]
  },
  {
   "cell_type": "code",
   "execution_count": 87,
   "id": "11696e4c-5da8-4544-abf9-076443dc6be9",
   "metadata": {},
   "outputs": [],
   "source": [
    "# Importing library for model generation\n",
    "\n",
    "from sklearn.neighbors import KNeighborsClassifier"
   ]
  },
  {
   "cell_type": "code",
   "execution_count": 88,
   "id": "8aefd765-fb59-4df8-bb52-5e060fcbdbc8",
   "metadata": {},
   "outputs": [],
   "source": [
    "# Regenerating the model once again\n",
    "\n",
    "model = KNeighborsClassifier()"
   ]
  },
  {
   "cell_type": "code",
   "execution_count": 89,
   "id": "a7018dfd-9380-49b9-82af-c0ac34d65279",
   "metadata": {},
   "outputs": [
    {
     "data": {
      "text/html": [
       "<style>#sk-container-id-1 {\n",
       "  /* Definition of color scheme common for light and dark mode */\n",
       "  --sklearn-color-text: black;\n",
       "  --sklearn-color-line: gray;\n",
       "  /* Definition of color scheme for unfitted estimators */\n",
       "  --sklearn-color-unfitted-level-0: #fff5e6;\n",
       "  --sklearn-color-unfitted-level-1: #f6e4d2;\n",
       "  --sklearn-color-unfitted-level-2: #ffe0b3;\n",
       "  --sklearn-color-unfitted-level-3: chocolate;\n",
       "  /* Definition of color scheme for fitted estimators */\n",
       "  --sklearn-color-fitted-level-0: #f0f8ff;\n",
       "  --sklearn-color-fitted-level-1: #d4ebff;\n",
       "  --sklearn-color-fitted-level-2: #b3dbfd;\n",
       "  --sklearn-color-fitted-level-3: cornflowerblue;\n",
       "\n",
       "  /* Specific color for light theme */\n",
       "  --sklearn-color-text-on-default-background: var(--sg-text-color, var(--theme-code-foreground, var(--jp-content-font-color1, black)));\n",
       "  --sklearn-color-background: var(--sg-background-color, var(--theme-background, var(--jp-layout-color0, white)));\n",
       "  --sklearn-color-border-box: var(--sg-text-color, var(--theme-code-foreground, var(--jp-content-font-color1, black)));\n",
       "  --sklearn-color-icon: #696969;\n",
       "\n",
       "  @media (prefers-color-scheme: dark) {\n",
       "    /* Redefinition of color scheme for dark theme */\n",
       "    --sklearn-color-text-on-default-background: var(--sg-text-color, var(--theme-code-foreground, var(--jp-content-font-color1, white)));\n",
       "    --sklearn-color-background: var(--sg-background-color, var(--theme-background, var(--jp-layout-color0, #111)));\n",
       "    --sklearn-color-border-box: var(--sg-text-color, var(--theme-code-foreground, var(--jp-content-font-color1, white)));\n",
       "    --sklearn-color-icon: #878787;\n",
       "  }\n",
       "}\n",
       "\n",
       "#sk-container-id-1 {\n",
       "  color: var(--sklearn-color-text);\n",
       "}\n",
       "\n",
       "#sk-container-id-1 pre {\n",
       "  padding: 0;\n",
       "}\n",
       "\n",
       "#sk-container-id-1 input.sk-hidden--visually {\n",
       "  border: 0;\n",
       "  clip: rect(1px 1px 1px 1px);\n",
       "  clip: rect(1px, 1px, 1px, 1px);\n",
       "  height: 1px;\n",
       "  margin: -1px;\n",
       "  overflow: hidden;\n",
       "  padding: 0;\n",
       "  position: absolute;\n",
       "  width: 1px;\n",
       "}\n",
       "\n",
       "#sk-container-id-1 div.sk-dashed-wrapped {\n",
       "  border: 1px dashed var(--sklearn-color-line);\n",
       "  margin: 0 0.4em 0.5em 0.4em;\n",
       "  box-sizing: border-box;\n",
       "  padding-bottom: 0.4em;\n",
       "  background-color: var(--sklearn-color-background);\n",
       "}\n",
       "\n",
       "#sk-container-id-1 div.sk-container {\n",
       "  /* jupyter's `normalize.less` sets `[hidden] { display: none; }`\n",
       "     but bootstrap.min.css set `[hidden] { display: none !important; }`\n",
       "     so we also need the `!important` here to be able to override the\n",
       "     default hidden behavior on the sphinx rendered scikit-learn.org.\n",
       "     See: https://github.com/scikit-learn/scikit-learn/issues/21755 */\n",
       "  display: inline-block !important;\n",
       "  position: relative;\n",
       "}\n",
       "\n",
       "#sk-container-id-1 div.sk-text-repr-fallback {\n",
       "  display: none;\n",
       "}\n",
       "\n",
       "div.sk-parallel-item,\n",
       "div.sk-serial,\n",
       "div.sk-item {\n",
       "  /* draw centered vertical line to link estimators */\n",
       "  background-image: linear-gradient(var(--sklearn-color-text-on-default-background), var(--sklearn-color-text-on-default-background));\n",
       "  background-size: 2px 100%;\n",
       "  background-repeat: no-repeat;\n",
       "  background-position: center center;\n",
       "}\n",
       "\n",
       "/* Parallel-specific style estimator block */\n",
       "\n",
       "#sk-container-id-1 div.sk-parallel-item::after {\n",
       "  content: \"\";\n",
       "  width: 100%;\n",
       "  border-bottom: 2px solid var(--sklearn-color-text-on-default-background);\n",
       "  flex-grow: 1;\n",
       "}\n",
       "\n",
       "#sk-container-id-1 div.sk-parallel {\n",
       "  display: flex;\n",
       "  align-items: stretch;\n",
       "  justify-content: center;\n",
       "  background-color: var(--sklearn-color-background);\n",
       "  position: relative;\n",
       "}\n",
       "\n",
       "#sk-container-id-1 div.sk-parallel-item {\n",
       "  display: flex;\n",
       "  flex-direction: column;\n",
       "}\n",
       "\n",
       "#sk-container-id-1 div.sk-parallel-item:first-child::after {\n",
       "  align-self: flex-end;\n",
       "  width: 50%;\n",
       "}\n",
       "\n",
       "#sk-container-id-1 div.sk-parallel-item:last-child::after {\n",
       "  align-self: flex-start;\n",
       "  width: 50%;\n",
       "}\n",
       "\n",
       "#sk-container-id-1 div.sk-parallel-item:only-child::after {\n",
       "  width: 0;\n",
       "}\n",
       "\n",
       "/* Serial-specific style estimator block */\n",
       "\n",
       "#sk-container-id-1 div.sk-serial {\n",
       "  display: flex;\n",
       "  flex-direction: column;\n",
       "  align-items: center;\n",
       "  background-color: var(--sklearn-color-background);\n",
       "  padding-right: 1em;\n",
       "  padding-left: 1em;\n",
       "}\n",
       "\n",
       "\n",
       "/* Toggleable style: style used for estimator/Pipeline/ColumnTransformer box that is\n",
       "clickable and can be expanded/collapsed.\n",
       "- Pipeline and ColumnTransformer use this feature and define the default style\n",
       "- Estimators will overwrite some part of the style using the `sk-estimator` class\n",
       "*/\n",
       "\n",
       "/* Pipeline and ColumnTransformer style (default) */\n",
       "\n",
       "#sk-container-id-1 div.sk-toggleable {\n",
       "  /* Default theme specific background. It is overwritten whether we have a\n",
       "  specific estimator or a Pipeline/ColumnTransformer */\n",
       "  background-color: var(--sklearn-color-background);\n",
       "}\n",
       "\n",
       "/* Toggleable label */\n",
       "#sk-container-id-1 label.sk-toggleable__label {\n",
       "  cursor: pointer;\n",
       "  display: block;\n",
       "  width: 100%;\n",
       "  margin-bottom: 0;\n",
       "  padding: 0.5em;\n",
       "  box-sizing: border-box;\n",
       "  text-align: center;\n",
       "}\n",
       "\n",
       "#sk-container-id-1 label.sk-toggleable__label-arrow:before {\n",
       "  /* Arrow on the left of the label */\n",
       "  content: \"▸\";\n",
       "  float: left;\n",
       "  margin-right: 0.25em;\n",
       "  color: var(--sklearn-color-icon);\n",
       "}\n",
       "\n",
       "#sk-container-id-1 label.sk-toggleable__label-arrow:hover:before {\n",
       "  color: var(--sklearn-color-text);\n",
       "}\n",
       "\n",
       "/* Toggleable content - dropdown */\n",
       "\n",
       "#sk-container-id-1 div.sk-toggleable__content {\n",
       "  max-height: 0;\n",
       "  max-width: 0;\n",
       "  overflow: hidden;\n",
       "  text-align: left;\n",
       "  /* unfitted */\n",
       "  background-color: var(--sklearn-color-unfitted-level-0);\n",
       "}\n",
       "\n",
       "#sk-container-id-1 div.sk-toggleable__content.fitted {\n",
       "  /* fitted */\n",
       "  background-color: var(--sklearn-color-fitted-level-0);\n",
       "}\n",
       "\n",
       "#sk-container-id-1 div.sk-toggleable__content pre {\n",
       "  margin: 0.2em;\n",
       "  border-radius: 0.25em;\n",
       "  color: var(--sklearn-color-text);\n",
       "  /* unfitted */\n",
       "  background-color: var(--sklearn-color-unfitted-level-0);\n",
       "}\n",
       "\n",
       "#sk-container-id-1 div.sk-toggleable__content.fitted pre {\n",
       "  /* unfitted */\n",
       "  background-color: var(--sklearn-color-fitted-level-0);\n",
       "}\n",
       "\n",
       "#sk-container-id-1 input.sk-toggleable__control:checked~div.sk-toggleable__content {\n",
       "  /* Expand drop-down */\n",
       "  max-height: 200px;\n",
       "  max-width: 100%;\n",
       "  overflow: auto;\n",
       "}\n",
       "\n",
       "#sk-container-id-1 input.sk-toggleable__control:checked~label.sk-toggleable__label-arrow:before {\n",
       "  content: \"▾\";\n",
       "}\n",
       "\n",
       "/* Pipeline/ColumnTransformer-specific style */\n",
       "\n",
       "#sk-container-id-1 div.sk-label input.sk-toggleable__control:checked~label.sk-toggleable__label {\n",
       "  color: var(--sklearn-color-text);\n",
       "  background-color: var(--sklearn-color-unfitted-level-2);\n",
       "}\n",
       "\n",
       "#sk-container-id-1 div.sk-label.fitted input.sk-toggleable__control:checked~label.sk-toggleable__label {\n",
       "  background-color: var(--sklearn-color-fitted-level-2);\n",
       "}\n",
       "\n",
       "/* Estimator-specific style */\n",
       "\n",
       "/* Colorize estimator box */\n",
       "#sk-container-id-1 div.sk-estimator input.sk-toggleable__control:checked~label.sk-toggleable__label {\n",
       "  /* unfitted */\n",
       "  background-color: var(--sklearn-color-unfitted-level-2);\n",
       "}\n",
       "\n",
       "#sk-container-id-1 div.sk-estimator.fitted input.sk-toggleable__control:checked~label.sk-toggleable__label {\n",
       "  /* fitted */\n",
       "  background-color: var(--sklearn-color-fitted-level-2);\n",
       "}\n",
       "\n",
       "#sk-container-id-1 div.sk-label label.sk-toggleable__label,\n",
       "#sk-container-id-1 div.sk-label label {\n",
       "  /* The background is the default theme color */\n",
       "  color: var(--sklearn-color-text-on-default-background);\n",
       "}\n",
       "\n",
       "/* On hover, darken the color of the background */\n",
       "#sk-container-id-1 div.sk-label:hover label.sk-toggleable__label {\n",
       "  color: var(--sklearn-color-text);\n",
       "  background-color: var(--sklearn-color-unfitted-level-2);\n",
       "}\n",
       "\n",
       "/* Label box, darken color on hover, fitted */\n",
       "#sk-container-id-1 div.sk-label.fitted:hover label.sk-toggleable__label.fitted {\n",
       "  color: var(--sklearn-color-text);\n",
       "  background-color: var(--sklearn-color-fitted-level-2);\n",
       "}\n",
       "\n",
       "/* Estimator label */\n",
       "\n",
       "#sk-container-id-1 div.sk-label label {\n",
       "  font-family: monospace;\n",
       "  font-weight: bold;\n",
       "  display: inline-block;\n",
       "  line-height: 1.2em;\n",
       "}\n",
       "\n",
       "#sk-container-id-1 div.sk-label-container {\n",
       "  text-align: center;\n",
       "}\n",
       "\n",
       "/* Estimator-specific */\n",
       "#sk-container-id-1 div.sk-estimator {\n",
       "  font-family: monospace;\n",
       "  border: 1px dotted var(--sklearn-color-border-box);\n",
       "  border-radius: 0.25em;\n",
       "  box-sizing: border-box;\n",
       "  margin-bottom: 0.5em;\n",
       "  /* unfitted */\n",
       "  background-color: var(--sklearn-color-unfitted-level-0);\n",
       "}\n",
       "\n",
       "#sk-container-id-1 div.sk-estimator.fitted {\n",
       "  /* fitted */\n",
       "  background-color: var(--sklearn-color-fitted-level-0);\n",
       "}\n",
       "\n",
       "/* on hover */\n",
       "#sk-container-id-1 div.sk-estimator:hover {\n",
       "  /* unfitted */\n",
       "  background-color: var(--sklearn-color-unfitted-level-2);\n",
       "}\n",
       "\n",
       "#sk-container-id-1 div.sk-estimator.fitted:hover {\n",
       "  /* fitted */\n",
       "  background-color: var(--sklearn-color-fitted-level-2);\n",
       "}\n",
       "\n",
       "/* Specification for estimator info (e.g. \"i\" and \"?\") */\n",
       "\n",
       "/* Common style for \"i\" and \"?\" */\n",
       "\n",
       ".sk-estimator-doc-link,\n",
       "a:link.sk-estimator-doc-link,\n",
       "a:visited.sk-estimator-doc-link {\n",
       "  float: right;\n",
       "  font-size: smaller;\n",
       "  line-height: 1em;\n",
       "  font-family: monospace;\n",
       "  background-color: var(--sklearn-color-background);\n",
       "  border-radius: 1em;\n",
       "  height: 1em;\n",
       "  width: 1em;\n",
       "  text-decoration: none !important;\n",
       "  margin-left: 1ex;\n",
       "  /* unfitted */\n",
       "  border: var(--sklearn-color-unfitted-level-1) 1pt solid;\n",
       "  color: var(--sklearn-color-unfitted-level-1);\n",
       "}\n",
       "\n",
       ".sk-estimator-doc-link.fitted,\n",
       "a:link.sk-estimator-doc-link.fitted,\n",
       "a:visited.sk-estimator-doc-link.fitted {\n",
       "  /* fitted */\n",
       "  border: var(--sklearn-color-fitted-level-1) 1pt solid;\n",
       "  color: var(--sklearn-color-fitted-level-1);\n",
       "}\n",
       "\n",
       "/* On hover */\n",
       "div.sk-estimator:hover .sk-estimator-doc-link:hover,\n",
       ".sk-estimator-doc-link:hover,\n",
       "div.sk-label-container:hover .sk-estimator-doc-link:hover,\n",
       ".sk-estimator-doc-link:hover {\n",
       "  /* unfitted */\n",
       "  background-color: var(--sklearn-color-unfitted-level-3);\n",
       "  color: var(--sklearn-color-background);\n",
       "  text-decoration: none;\n",
       "}\n",
       "\n",
       "div.sk-estimator.fitted:hover .sk-estimator-doc-link.fitted:hover,\n",
       ".sk-estimator-doc-link.fitted:hover,\n",
       "div.sk-label-container:hover .sk-estimator-doc-link.fitted:hover,\n",
       ".sk-estimator-doc-link.fitted:hover {\n",
       "  /* fitted */\n",
       "  background-color: var(--sklearn-color-fitted-level-3);\n",
       "  color: var(--sklearn-color-background);\n",
       "  text-decoration: none;\n",
       "}\n",
       "\n",
       "/* Span, style for the box shown on hovering the info icon */\n",
       ".sk-estimator-doc-link span {\n",
       "  display: none;\n",
       "  z-index: 9999;\n",
       "  position: relative;\n",
       "  font-weight: normal;\n",
       "  right: .2ex;\n",
       "  padding: .5ex;\n",
       "  margin: .5ex;\n",
       "  width: min-content;\n",
       "  min-width: 20ex;\n",
       "  max-width: 50ex;\n",
       "  color: var(--sklearn-color-text);\n",
       "  box-shadow: 2pt 2pt 4pt #999;\n",
       "  /* unfitted */\n",
       "  background: var(--sklearn-color-unfitted-level-0);\n",
       "  border: .5pt solid var(--sklearn-color-unfitted-level-3);\n",
       "}\n",
       "\n",
       ".sk-estimator-doc-link.fitted span {\n",
       "  /* fitted */\n",
       "  background: var(--sklearn-color-fitted-level-0);\n",
       "  border: var(--sklearn-color-fitted-level-3);\n",
       "}\n",
       "\n",
       ".sk-estimator-doc-link:hover span {\n",
       "  display: block;\n",
       "}\n",
       "\n",
       "/* \"?\"-specific style due to the `<a>` HTML tag */\n",
       "\n",
       "#sk-container-id-1 a.estimator_doc_link {\n",
       "  float: right;\n",
       "  font-size: 1rem;\n",
       "  line-height: 1em;\n",
       "  font-family: monospace;\n",
       "  background-color: var(--sklearn-color-background);\n",
       "  border-radius: 1rem;\n",
       "  height: 1rem;\n",
       "  width: 1rem;\n",
       "  text-decoration: none;\n",
       "  /* unfitted */\n",
       "  color: var(--sklearn-color-unfitted-level-1);\n",
       "  border: var(--sklearn-color-unfitted-level-1) 1pt solid;\n",
       "}\n",
       "\n",
       "#sk-container-id-1 a.estimator_doc_link.fitted {\n",
       "  /* fitted */\n",
       "  border: var(--sklearn-color-fitted-level-1) 1pt solid;\n",
       "  color: var(--sklearn-color-fitted-level-1);\n",
       "}\n",
       "\n",
       "/* On hover */\n",
       "#sk-container-id-1 a.estimator_doc_link:hover {\n",
       "  /* unfitted */\n",
       "  background-color: var(--sklearn-color-unfitted-level-3);\n",
       "  color: var(--sklearn-color-background);\n",
       "  text-decoration: none;\n",
       "}\n",
       "\n",
       "#sk-container-id-1 a.estimator_doc_link.fitted:hover {\n",
       "  /* fitted */\n",
       "  background-color: var(--sklearn-color-fitted-level-3);\n",
       "}\n",
       "</style><div id=\"sk-container-id-1\" class=\"sk-top-container\"><div class=\"sk-text-repr-fallback\"><pre>KNeighborsClassifier()</pre><b>In a Jupyter environment, please rerun this cell to show the HTML representation or trust the notebook. <br />On GitHub, the HTML representation is unable to render, please try loading this page with nbviewer.org.</b></div><div class=\"sk-container\" hidden><div class=\"sk-item\"><div class=\"sk-estimator fitted sk-toggleable\"><input class=\"sk-toggleable__control sk-hidden--visually\" id=\"sk-estimator-id-1\" type=\"checkbox\" checked><label for=\"sk-estimator-id-1\" class=\"sk-toggleable__label fitted sk-toggleable__label-arrow fitted\">&nbsp;&nbsp;KNeighborsClassifier<a class=\"sk-estimator-doc-link fitted\" rel=\"noreferrer\" target=\"_blank\" href=\"https://scikit-learn.org/1.4/modules/generated/sklearn.neighbors.KNeighborsClassifier.html\">?<span>Documentation for KNeighborsClassifier</span></a><span class=\"sk-estimator-doc-link fitted\">i<span>Fitted</span></span></label><div class=\"sk-toggleable__content fitted\"><pre>KNeighborsClassifier()</pre></div> </div></div></div></div>"
      ],
      "text/plain": [
       "KNeighborsClassifier()"
      ]
     },
     "execution_count": 89,
     "metadata": {},
     "output_type": "execute_result"
    }
   ],
   "source": [
    "model.fit(X_train, y_train)"
   ]
  },
  {
   "cell_type": "code",
   "execution_count": 90,
   "id": "28e3de92-760e-4ba3-b717-75de0c310e30",
   "metadata": {},
   "outputs": [
    {
     "data": {
      "text/plain": [
       "array([[ 21,   4, 110],\n",
       "       [ 30,   4,  28],\n",
       "       [ 43,   4,  47],\n",
       "       ...,\n",
       "       [ 32,   4,  12],\n",
       "       [  7,   4,  32],\n",
       "       [ 33,   4,  57]])"
      ]
     },
     "execution_count": 90,
     "metadata": {},
     "output_type": "execute_result"
    }
   ],
   "source": [
    "# Predicting the model again in numerical terms\n",
    "\n",
    "y_pred = model.predict(X_test)\n",
    "y_pred"
   ]
  },
  {
   "cell_type": "code",
   "execution_count": 91,
   "id": "21e52be9-0005-4c77-802c-5126dfafcfde",
   "metadata": {},
   "outputs": [
    {
     "name": "stdout",
     "output_type": "stream",
     "text": [
      "mean_absolute_error :  4.894037356321839\n"
     ]
    }
   ],
   "source": [
    "# Checking the Mean Absolute error of whole model\n",
    "\n",
    "from sklearn.metrics import mean_absolute_error\n",
    "print(\"mean_absolute_error : \", mean_absolute_error(y_pred, y_test))"
   ]
  },
  {
   "cell_type": "code",
   "execution_count": 92,
   "id": "448c776c-4652-4fa2-953c-2cd3ba2648fd",
   "metadata": {},
   "outputs": [
    {
     "name": "stdout",
     "output_type": "stream",
     "text": [
      "              precision    recall  f1-score   support\n",
      "\n",
      "           0       0.70      0.52      0.60       590\n",
      "           1       0.58      0.55      0.56       335\n",
      "           2       0.66      0.49      0.57        91\n",
      "           3       0.64      0.64      0.64       274\n",
      "           4       0.81      0.72      0.76       651\n",
      "           5       0.81      0.76      0.78       638\n",
      "           6       0.62      0.72      0.67        58\n",
      "           7       0.58      0.64      0.61       111\n",
      "           8       0.57      0.75      0.65        55\n",
      "           9       0.59      0.64      0.61       216\n",
      "          10       0.69      0.70      0.69       222\n",
      "          11       0.59      0.69      0.64       102\n",
      "          12       0.66      0.67      0.67       113\n",
      "          13       0.69      0.66      0.67       131\n",
      "          14       0.81      0.75      0.78       521\n",
      "          15       0.78      0.75      0.76      1235\n",
      "          16       0.73      0.76      0.75       434\n",
      "          17       0.68      0.74      0.71       111\n",
      "          18       0.66      0.59      0.62        90\n",
      "          19       0.69      0.70      0.69       152\n",
      "          20       0.74      0.79      0.76       495\n",
      "          21       0.61      0.80      0.69        98\n",
      "          22       0.59      0.82      0.69        78\n",
      "          23       0.76      0.71      0.73       332\n",
      "          24       0.71      0.70      0.70       311\n",
      "          25       0.00      0.00      0.00         5\n",
      "          26       0.86      0.72      0.79       137\n",
      "          27       0.75      0.76      0.75       360\n",
      "          28       0.77      0.79      0.78       403\n",
      "          29       0.80      0.83      0.81        87\n",
      "          30       0.73      0.72      0.73       348\n",
      "          31       0.75      0.77      0.76       141\n",
      "          32       0.75      0.74      0.75       368\n",
      "          33       0.74      0.79      0.76       267\n",
      "          34       0.74      0.70      0.72       354\n",
      "          35       0.74      0.79      0.76       270\n",
      "          36       0.77      0.75      0.76       350\n",
      "          37       0.73      0.74      0.74       240\n",
      "          38       0.82      0.80      0.81       122\n",
      "          39       0.73      0.82      0.77        94\n",
      "          40       0.85      0.73      0.78       106\n",
      "          41       0.69      0.72      0.70        61\n",
      "          42       0.00      0.00      0.00         0\n",
      "          43       0.71      0.74      0.73       241\n",
      "          44       0.78      0.76      0.77       149\n",
      "          45       0.71      0.79      0.75       378\n",
      "          46       0.76      0.73      0.75       574\n",
      "          47       0.86      0.85      0.85        85\n",
      "          48       0.68      0.78      0.73       205\n",
      "          49       0.70      0.79      0.74       180\n",
      "          50       0.00      0.00      0.00         2\n",
      "          51       0.02      0.12      0.03         8\n",
      "          52       0.00      0.00      0.00         2\n",
      "          53       0.01      0.09      0.03        11\n",
      "\n",
      "    accuracy                           0.72     12992\n",
      "   macro avg       0.64      0.65      0.64     12992\n",
      "weighted avg       0.74      0.72      0.73     12992\n",
      "\n"
     ]
    }
   ],
   "source": [
    "# Accuracy for Institute short\n",
    "\n",
    "from sklearn.metrics import classification_report \n",
    "y_pred1 = y_pred[:,0]\n",
    "y_test1 = y_test.loc[:,\"institute_short\"]\n",
    "print(classification_report(y_pred1, y_test1))"
   ]
  },
  {
   "cell_type": "code",
   "execution_count": 93,
   "id": "2de90cfc-218e-4482-878b-3190058bc72f",
   "metadata": {},
   "outputs": [
    {
     "data": {
      "text/plain": [
       "4.001539408866995"
      ]
     },
     "execution_count": 93,
     "metadata": {},
     "output_type": "execute_result"
    }
   ],
   "source": [
    "mean_absolute_error(y_pred1, y_test1)"
   ]
  },
  {
   "cell_type": "code",
   "execution_count": 94,
   "id": "e9851aaa-3b29-4c78-b933-31e51972dc79",
   "metadata": {},
   "outputs": [
    {
     "data": {
      "text/plain": [
       "0.7235991379310345"
      ]
     },
     "execution_count": 94,
     "metadata": {},
     "output_type": "execute_result"
    }
   ],
   "source": [
    "from sklearn.metrics import accuracy_score\n",
    "Accuracy1 = accuracy_score(y_pred1, y_test1)\n",
    "Accuracy1"
   ]
  },
  {
   "cell_type": "code",
   "execution_count": 95,
   "id": "e5437ffb-55ef-4f58-8ce4-d4df799210b3",
   "metadata": {},
   "outputs": [
    {
     "name": "stdout",
     "output_type": "stream",
     "text": [
      "              precision    recall  f1-score   support\n",
      "\n",
      "           0       0.71      0.83      0.77       226\n",
      "           1       0.00      0.00      0.00         0\n",
      "           3       0.65      0.77      0.71        22\n",
      "           4       0.97      0.94      0.95     10728\n",
      "           5       0.71      0.83      0.76      1049\n",
      "           6       1.00      0.78      0.88       129\n",
      "           7       0.88      0.82      0.85       475\n",
      "           8       0.52      0.67      0.58        24\n",
      "           9       0.76      0.80      0.78       168\n",
      "          10       0.57      0.78      0.66        96\n",
      "          11       0.39      0.83      0.53        75\n",
      "\n",
      "    accuracy                           0.92     12992\n",
      "   macro avg       0.65      0.73      0.68     12992\n",
      "weighted avg       0.93      0.92      0.92     12992\n",
      "\n"
     ]
    }
   ],
   "source": [
    "# Accuracy for Program Name\n",
    "\n",
    "from sklearn.metrics import classification_report \n",
    "y_pred2 = y_pred[:,1]\n",
    "y_test2 = y_test.loc[:,\"degree_short\"]\n",
    "print(classification_report(y_pred2, y_test2))"
   ]
  },
  {
   "cell_type": "code",
   "execution_count": 96,
   "id": "185ad4b5-d3ec-4c1a-907b-86276fb3a18a",
   "metadata": {},
   "outputs": [
    {
     "data": {
      "text/plain": [
       "0.2302185960591133"
      ]
     },
     "execution_count": 96,
     "metadata": {},
     "output_type": "execute_result"
    }
   ],
   "source": [
    "mean_absolute_error(y_pred2, y_test2)"
   ]
  },
  {
   "cell_type": "code",
   "execution_count": 97,
   "id": "f4e87a58-6ae7-4ce5-97c2-cee813244810",
   "metadata": {},
   "outputs": [
    {
     "data": {
      "text/plain": [
       "0.9189501231527094"
      ]
     },
     "execution_count": 97,
     "metadata": {},
     "output_type": "execute_result"
    }
   ],
   "source": [
    "from sklearn.metrics import accuracy_score\n",
    "Accuracy2 = accuracy_score(y_pred2, y_test2)\n",
    "Accuracy2"
   ]
  },
  {
   "cell_type": "code",
   "execution_count": 98,
   "id": "9d31f3a0-f91e-41c9-8dd0-fc3f0c402fb5",
   "metadata": {},
   "outputs": [
    {
     "name": "stdout",
     "output_type": "stream",
     "text": [
      "              precision    recall  f1-score   support\n",
      "\n",
      "           0       0.79      0.59      0.68       249\n",
      "           1       0.76      0.74      0.75        34\n",
      "           2       0.81      0.78      0.79        32\n",
      "           3       0.00      0.00      0.00         3\n",
      "           4       0.78      0.65      0.71        69\n",
      "           5       0.50      0.26      0.34        19\n",
      "           6       0.00      0.00      0.00         3\n",
      "           7       0.75      0.63      0.68       313\n",
      "           8       0.90      0.73      0.80        51\n",
      "           9       0.87      0.77      0.82        26\n",
      "          10       0.91      0.53      0.67        19\n",
      "          11       0.62      0.74      0.68        31\n",
      "          12       0.70      0.69      0.70        55\n",
      "          13       0.65      0.57      0.61       214\n",
      "          14       0.00      0.00      0.00         2\n",
      "          15       0.78      0.64      0.70        22\n",
      "          16       0.00      0.00      0.00         0\n",
      "          17       0.58      0.78      0.67        18\n",
      "          18       0.79      0.61      0.69        36\n",
      "          19       0.76      0.57      0.65        28\n",
      "          20       0.91      0.60      0.72        35\n",
      "          21       0.71      0.62      0.67        16\n",
      "          22       0.97      0.70      0.82        44\n",
      "          23       0.77      0.67      0.71        15\n",
      "          24       0.67      0.62      0.65       135\n",
      "          25       1.00      0.73      0.84        11\n",
      "          26       0.62      0.67      0.65        64\n",
      "          27       0.89      0.67      0.76        12\n",
      "          28       0.74      0.67      0.70      1002\n",
      "          29       0.65      0.83      0.73        18\n",
      "          30       1.00      0.67      0.80        15\n",
      "          31       0.68      0.67      0.68       172\n",
      "          32       0.74      0.70      0.72      1395\n",
      "          33       0.61      0.65      0.63        17\n",
      "          34       0.50      0.82      0.62        11\n",
      "          35       0.45      0.62      0.53         8\n",
      "          36       0.00      0.00      0.00         0\n",
      "          37       0.62      0.67      0.65        30\n",
      "          38       0.82      0.43      0.56        21\n",
      "          39       1.00      0.92      0.96        13\n",
      "          40       1.00      0.81      0.89        21\n",
      "          41       0.66      0.74      0.70        39\n",
      "          42       0.79      0.74      0.76      1790\n",
      "          43       0.75      0.94      0.83        16\n",
      "          44       0.83      0.88      0.86        17\n",
      "          45       0.81      0.79      0.80        33\n",
      "          46       0.80      0.79      0.80       131\n",
      "          47       0.72      0.76      0.74      1120\n",
      "          48       0.87      0.82      0.84        33\n",
      "          49       0.67      1.00      0.80         8\n",
      "          50       0.00      0.00      0.00         0\n",
      "          51       0.00      0.00      0.00         0\n",
      "          52       0.00      0.00      0.00         0\n",
      "          53       0.44      0.73      0.55        15\n",
      "          54       0.83      0.78      0.81        32\n",
      "          55       0.69      0.74      0.71       230\n",
      "          56       0.45      0.56      0.50        16\n",
      "          57       0.75      0.76      0.75       936\n",
      "          58       0.80      0.73      0.76        44\n",
      "          59       0.71      0.89      0.79        27\n",
      "          60       0.00      0.00      0.00         0\n",
      "          61       0.56      0.88      0.68        17\n",
      "          62       0.66      0.72      0.69        92\n",
      "          63       0.96      0.79      0.87        29\n",
      "          64       0.79      0.93      0.85        28\n",
      "          65       0.80      0.86      0.83        37\n",
      "          66       0.70      0.79      0.74       281\n",
      "          67       0.00      0.00      0.00         0\n",
      "          68       0.48      0.83      0.61        12\n",
      "          69       0.97      0.88      0.92        34\n",
      "          70       0.69      0.82      0.75        11\n",
      "          71       0.68      0.96      0.79        24\n",
      "          72       0.84      0.63      0.72        41\n",
      "          73       0.67      0.67      0.67        24\n",
      "          74       0.68      0.74      0.71        31\n",
      "          75       0.70      0.88      0.78        26\n",
      "          76       0.80      0.50      0.62        24\n",
      "          77       0.72      0.81      0.76        26\n",
      "          78       0.73      0.73      0.73        33\n",
      "          79       0.89      0.83      0.86        29\n",
      "          80       0.85      0.81      0.83        21\n",
      "          82       0.68      0.80      0.73       122\n",
      "          83       0.80      0.75      0.77        32\n",
      "          84       0.64      0.70      0.67        30\n",
      "          85       0.73      0.92      0.81        12\n",
      "          86       0.71      0.83      0.77        24\n",
      "          87       0.78      0.75      0.77        24\n",
      "          88       0.00      0.00      0.00         0\n",
      "          89       0.94      0.92      0.93        53\n",
      "          90       0.66      0.72      0.69       102\n",
      "          91       0.71      0.71      0.71        41\n",
      "          92       0.94      0.81      0.87        21\n",
      "          93       0.50      0.73      0.59        15\n",
      "          94       0.91      0.76      0.83        38\n",
      "          95       0.70      0.82      0.76       235\n",
      "          96       0.83      0.83      0.83        23\n",
      "          97       0.68      0.89      0.77        28\n",
      "          98       0.72      0.75      0.74      1240\n",
      "          99       0.62      1.00      0.76        13\n",
      "         100       0.63      0.94      0.76        18\n",
      "         101       0.74      0.77      0.76        22\n",
      "         102       0.00      0.00      0.00         0\n",
      "         103       0.64      1.00      0.78         7\n",
      "         104       0.79      0.67      0.72        39\n",
      "         105       0.59      0.74      0.65        23\n",
      "         106       0.86      0.93      0.89        27\n",
      "         107       0.74      0.81      0.77        59\n",
      "         108       0.00      0.00      0.00         0\n",
      "         109       0.00      0.00      0.00         0\n",
      "         110       0.67      0.78      0.72       371\n",
      "         111       0.00      0.00      0.00         0\n",
      "         112       0.00      0.00      0.00         0\n",
      "         113       0.69      0.56      0.62        16\n",
      "         114       0.69      0.78      0.73       169\n",
      "         115       0.71      0.62      0.67        24\n",
      "         116       0.78      0.86      0.82        21\n",
      "         117       0.58      0.85      0.69        26\n",
      "         118       0.81      0.89      0.85        54\n",
      "         119       0.50      0.82      0.62        11\n",
      "         120       0.65      0.89      0.76        19\n",
      "         121       0.00      0.00      0.00         0\n",
      "         122       0.77      0.71      0.74       141\n",
      "         123       0.65      0.71      0.68        24\n",
      "         124       0.00      0.00      0.00         0\n",
      "         125       0.72      0.87      0.79        54\n",
      "         126       0.72      0.82      0.77       136\n",
      "         127       0.00      0.00      0.00         0\n",
      "         128       1.00      0.84      0.91        31\n",
      "         129       0.72      0.69      0.71        61\n",
      "\n",
      "    accuracy                           0.73     12992\n",
      "   macro avg       0.63      0.64      0.63     12992\n",
      "weighted avg       0.74      0.73      0.73     12992\n",
      "\n"
     ]
    }
   ],
   "source": [
    "# Accuracy for Degree \n",
    "\n",
    "from sklearn.metrics import classification_report \n",
    "y_pred3 = y_pred[:,2]\n",
    "y_test3 = y_test.loc[:,\"program_name\"]\n",
    "print(classification_report(y_pred3, y_test3))"
   ]
  },
  {
   "cell_type": "code",
   "execution_count": 99,
   "id": "cca94b59-6ae9-4150-a8fd-0c1069f1fafd",
   "metadata": {},
   "outputs": [
    {
     "data": {
      "text/plain": [
       "10.45035406403941"
      ]
     },
     "execution_count": 99,
     "metadata": {},
     "output_type": "execute_result"
    }
   ],
   "source": [
    "mean_absolute_error(y_pred3, y_test3)"
   ]
  },
  {
   "cell_type": "code",
   "execution_count": 100,
   "id": "c704ed58-7cc1-4d64-841e-6bb855c12045",
   "metadata": {},
   "outputs": [
    {
     "data": {
      "text/plain": [
       "0.7318349753694581"
      ]
     },
     "execution_count": 100,
     "metadata": {},
     "output_type": "execute_result"
    }
   ],
   "source": [
    "from sklearn.metrics import accuracy_score\n",
    "Accuracy3 = accuracy_score(y_pred3, y_test3)\n",
    "Accuracy3"
   ]
  },
  {
   "cell_type": "code",
   "execution_count": 101,
   "id": "07ecfbae-8d6e-4c03-a8a6-5c28e41a2d75",
   "metadata": {},
   "outputs": [
    {
     "data": {
      "text/plain": [
       "0.7914614121510674"
      ]
     },
     "execution_count": 101,
     "metadata": {},
     "output_type": "execute_result"
    }
   ],
   "source": [
    "# total accuracy of the model\n",
    "\n",
    "Mean_Accuracy = (Accuracy1 + Accuracy2 + Accuracy3) / 3\n",
    "Mean_Accuracy\n"
   ]
  },
  {
   "cell_type": "markdown",
   "id": "cd8370d7-3c21-4cbd-adf1-1fad3bbe134f",
   "metadata": {},
   "source": [
    "**<span style=\"color:darkred;\">Here we evaluate our model and find that it is really good and a realistic model. Firstly, we extract the individual Accuracy of the target data and then conclude the mean accuracy of the target data. </span>**\n",
    "\n",
    "**<span style=\"color:#fffff;\">Accuracy of Institute Name - 75.3%</span>**\n",
    "\n",
    "**<span style=\"color:#fffff;\">Accuracy of Program Name - 75.6%</span>**\n",
    "\n",
    "**<span style=\"color:#fffff;\">Accuracy of degree - 93.8%</span>**\n",
    "\n",
    "**<span style=\"color:darkred;\">After calculating the individual accuracy, we will find out the total or mean accuracy of the model.</span>**\n",
    "\n",
    "**<span style=\"color:#fffff;\">Accuracy of the Model - 81.6%</span>**\n",
    "\n",
    "***"
   ]
  },
  {
   "cell_type": "markdown",
   "id": "d3055427-5e61-4910-b969-b32da17e955a",
   "metadata": {},
   "source": [
    "# <h1 style='background:#800080; border:0; color:white; padding-top: 20px'><center>Prediction of College : IIT-NIT category wise cut-off data</center></h1> "
   ]
  },
  {
   "cell_type": "markdown",
   "id": "7aa95b08-77e2-452d-ab8f-b71fe132c9c0",
   "metadata": {},
   "source": [
    "## **<span style=\"color:blue;\">⚙Prediction of Colleges</span>**\n",
    "\n",
    "The Colleges are predicted by the given featured dataset in which feature like Institute type, Round Number, Quota, Category, Opening Rank and Closing Rank is calculated to find the College, Branch and Degree."
   ]
  },
  {
   "cell_type": "code",
   "execution_count": 103,
   "id": "6e180532-62c9-45ce-8688-9769585c020a",
   "metadata": {},
   "outputs": [
    {
     "data": {
      "text/html": [
       "<div>\n",
       "<style scoped>\n",
       "    .dataframe tbody tr th:only-of-type {\n",
       "        vertical-align: middle;\n",
       "    }\n",
       "\n",
       "    .dataframe tbody tr th {\n",
       "        vertical-align: top;\n",
       "    }\n",
       "\n",
       "    .dataframe thead th {\n",
       "        text-align: right;\n",
       "    }\n",
       "</style>\n",
       "<table border=\"1\" class=\"dataframe\">\n",
       "  <thead>\n",
       "    <tr style=\"text-align: right;\">\n",
       "      <th></th>\n",
       "      <th>Unnamed: 0</th>\n",
       "      <th>year</th>\n",
       "      <th>institute_type</th>\n",
       "      <th>round_no</th>\n",
       "      <th>quota</th>\n",
       "      <th>pool</th>\n",
       "      <th>institute_short</th>\n",
       "      <th>program_name</th>\n",
       "      <th>program_duration</th>\n",
       "      <th>degree_short</th>\n",
       "      <th>category</th>\n",
       "      <th>opening_rank</th>\n",
       "      <th>closing_rank</th>\n",
       "      <th>is_preparatory</th>\n",
       "    </tr>\n",
       "  </thead>\n",
       "  <tbody>\n",
       "    <tr>\n",
       "      <th>0</th>\n",
       "      <td>0</td>\n",
       "      <td>2016</td>\n",
       "      <td>IIT</td>\n",
       "      <td>6</td>\n",
       "      <td>AI</td>\n",
       "      <td>Gender-Neutral</td>\n",
       "      <td>IIT-Bombay</td>\n",
       "      <td>Aerospace Engineering</td>\n",
       "      <td>4 Years</td>\n",
       "      <td>B.Tech</td>\n",
       "      <td>GEN</td>\n",
       "      <td>838</td>\n",
       "      <td>1841</td>\n",
       "      <td>0</td>\n",
       "    </tr>\n",
       "    <tr>\n",
       "      <th>1</th>\n",
       "      <td>1</td>\n",
       "      <td>2016</td>\n",
       "      <td>IIT</td>\n",
       "      <td>6</td>\n",
       "      <td>AI</td>\n",
       "      <td>Gender-Neutral</td>\n",
       "      <td>IIT-Bombay</td>\n",
       "      <td>Aerospace Engineering</td>\n",
       "      <td>4 Years</td>\n",
       "      <td>B.Tech</td>\n",
       "      <td>OBC-NCL</td>\n",
       "      <td>408</td>\n",
       "      <td>1098</td>\n",
       "      <td>0</td>\n",
       "    </tr>\n",
       "    <tr>\n",
       "      <th>2</th>\n",
       "      <td>2</td>\n",
       "      <td>2016</td>\n",
       "      <td>IIT</td>\n",
       "      <td>6</td>\n",
       "      <td>AI</td>\n",
       "      <td>Gender-Neutral</td>\n",
       "      <td>IIT-Bombay</td>\n",
       "      <td>Aerospace Engineering</td>\n",
       "      <td>4 Years</td>\n",
       "      <td>B.Tech</td>\n",
       "      <td>SC</td>\n",
       "      <td>297</td>\n",
       "      <td>468</td>\n",
       "      <td>0</td>\n",
       "    </tr>\n",
       "    <tr>\n",
       "      <th>3</th>\n",
       "      <td>3</td>\n",
       "      <td>2016</td>\n",
       "      <td>IIT</td>\n",
       "      <td>6</td>\n",
       "      <td>AI</td>\n",
       "      <td>Gender-Neutral</td>\n",
       "      <td>IIT-Bombay</td>\n",
       "      <td>Aerospace Engineering</td>\n",
       "      <td>4 Years</td>\n",
       "      <td>B.Tech</td>\n",
       "      <td>ST</td>\n",
       "      <td>79</td>\n",
       "      <td>145</td>\n",
       "      <td>0</td>\n",
       "    </tr>\n",
       "    <tr>\n",
       "      <th>4</th>\n",
       "      <td>4</td>\n",
       "      <td>2016</td>\n",
       "      <td>IIT</td>\n",
       "      <td>6</td>\n",
       "      <td>AI</td>\n",
       "      <td>Gender-Neutral</td>\n",
       "      <td>IIT-Bombay</td>\n",
       "      <td>Aerospace Engineering</td>\n",
       "      <td>4 Years</td>\n",
       "      <td>B.Tech</td>\n",
       "      <td>GEN-PWD</td>\n",
       "      <td>94</td>\n",
       "      <td>94</td>\n",
       "      <td>0</td>\n",
       "    </tr>\n",
       "  </tbody>\n",
       "</table>\n",
       "</div>"
      ],
      "text/plain": [
       "   Unnamed: 0  year institute_type  round_no quota            pool  \\\n",
       "0           0  2016            IIT         6    AI  Gender-Neutral   \n",
       "1           1  2016            IIT         6    AI  Gender-Neutral   \n",
       "2           2  2016            IIT         6    AI  Gender-Neutral   \n",
       "3           3  2016            IIT         6    AI  Gender-Neutral   \n",
       "4           4  2016            IIT         6    AI  Gender-Neutral   \n",
       "\n",
       "  institute_short           program_name program_duration degree_short  \\\n",
       "0      IIT-Bombay  Aerospace Engineering          4 Years       B.Tech   \n",
       "1      IIT-Bombay  Aerospace Engineering          4 Years       B.Tech   \n",
       "2      IIT-Bombay  Aerospace Engineering          4 Years       B.Tech   \n",
       "3      IIT-Bombay  Aerospace Engineering          4 Years       B.Tech   \n",
       "4      IIT-Bombay  Aerospace Engineering          4 Years       B.Tech   \n",
       "\n",
       "  category  opening_rank  closing_rank  is_preparatory  \n",
       "0      GEN           838          1841               0  \n",
       "1  OBC-NCL           408          1098               0  \n",
       "2       SC           297           468               0  \n",
       "3       ST            79           145               0  \n",
       "4  GEN-PWD            94            94               0  "
      ]
     },
     "execution_count": 103,
     "metadata": {},
     "output_type": "execute_result"
    }
   ],
   "source": [
    "\n",
    "pred_College= pd.read_csv(r\"C:\\Users\\aditya arav\\Desktop\\college-predictor-rakeshranjan/iit-and-nit-colleges-admission-criteria-version-2.csv\")\n",
    "pred_College.head()"
   ]
  },
  {
   "cell_type": "markdown",
   "id": "35c6eadc-88de-4cc7-b021-fbc9e7e03762",
   "metadata": {},
   "source": [
    "## **<span style=\"color:blue;\">Converting object values into numerical form</span>**\n",
    "\n",
    "**institute_type** - IIT : 0, NIT : 1\n",
    "\n",
    "**Quota** :-\n",
    "\n",
    "AI : All-India - 0\n",
    "\n",
    "HS : Home-State - 3\n",
    "\n",
    "OS : Other-State - 6\n",
    "\n",
    "AP : Andhra Pradesh - 1\n",
    "\n",
    "GO : Goa - 2\n",
    "\n",
    "JK : Jammu & Kashmir - 4\n",
    "\n",
    "LA : Ladakh - 5\n",
    "\n",
    "**Pool** - Gender-Neutral : 0, Female-only : 1\n",
    "\n",
    "**Category** :-\n",
    "\n",
    "GEN : General - 0\n",
    "\n",
    "OBC-NCL : Other Backward Classes-Non Creamy Layer - 4\n",
    "\n",
    "SC : Scheduled Castes - 6\n",
    "\n",
    "ST : Scheduled Tribes - 8\n",
    "\n",
    "GEN-PWD : General & Persons with Disabilities - 3\n",
    "\n",
    "OBC-NCL-PWD : Other Backward Classes & Persons with Disabilities - 5\n",
    "\n",
    "SC-PWD : Scheduled Castes & Persons with Disabilities - 7\n",
    "\n",
    "ST-PWD : Scheduled Tribes & Persons with Disabilities - 9\n",
    "\n",
    "GEN-EWS : General & Economically Weaker Section - 1\n",
    "\n",
    "GEN-EWS-PWD : General & Economically Weaker Section & Persons with Disability - 2"
   ]
  },
  {
   "cell_type": "code",
   "execution_count": 105,
   "id": "44fa1916-80bd-41a6-9a6e-45058fb32ad8",
   "metadata": {},
   "outputs": [
    {
     "data": {
      "text/plain": [
       "array([0, 1], dtype=int64)"
      ]
     },
     "execution_count": 105,
     "metadata": {},
     "output_type": "execute_result"
    }
   ],
   "source": [
    "# Changing Institute type\n",
    "\n",
    "pred_College['institute_type'] = [0 if x == 'IIT' else 1 for x in pred_College['institute_type']]\n",
    "pred_College['institute_type'].unique()"
   ]
  },
  {
   "cell_type": "code",
   "execution_count": 106,
   "id": "50ceebe9-b95f-4963-b157-c9db68e21619",
   "metadata": {},
   "outputs": [
    {
     "data": {
      "text/plain": [
       "array([0, 3, 6, 1, 2, 4, 5])"
      ]
     },
     "execution_count": 106,
     "metadata": {},
     "output_type": "execute_result"
    }
   ],
   "source": [
    "# Labeling the quota values\n",
    "\n",
    "le = LabelEncoder()\n",
    "pred_College['quota'] = le.fit_transform(pred_College['quota'])\n",
    "pred_College['quota'].unique()"
   ]
  },
  {
   "cell_type": "code",
   "execution_count": 107,
   "id": "fecb8f91-647d-4ace-b10c-3a50646f0bd7",
   "metadata": {},
   "outputs": [
    {
     "data": {
      "text/plain": [
       "array([0, 1], dtype=int64)"
      ]
     },
     "execution_count": 107,
     "metadata": {},
     "output_type": "execute_result"
    }
   ],
   "source": [
    "# changing the pool values\n",
    "\n",
    "pred_College['pool'] = [0 if x == 'Gender-Neutral' else 1 for x in pred_College['pool']]\n",
    "pred_College['pool'].unique()"
   ]
  },
  {
   "cell_type": "code",
   "execution_count": 108,
   "id": "e123bf0c-02bc-4dd8-a3aa-b42d4159a058",
   "metadata": {},
   "outputs": [
    {
     "data": {
      "text/plain": [
       "array([0, 4, 6, 8, 3, 5, 7, 9, 1, 2])"
      ]
     },
     "execution_count": 108,
     "metadata": {},
     "output_type": "execute_result"
    }
   ],
   "source": [
    "# Labeling the categories\n",
    "\n",
    "pred_College['category']= le.fit_transform(pred_College['category'])\n",
    "pred_College['category'].unique()"
   ]
  },
  {
   "cell_type": "code",
   "execution_count": 109,
   "id": "d997c98e-efef-4c66-b204-dc0d8d0fc700",
   "metadata": {},
   "outputs": [],
   "source": [
    "# Selecting the target data\n",
    "\n",
    "y1 = pred_College[['institute_short', 'degree_short', 'program_name']]"
   ]
  },
  {
   "cell_type": "code",
   "execution_count": 110,
   "id": "2b72af70-a542-498d-91d6-ffdc8c84301f",
   "metadata": {},
   "outputs": [],
   "source": [
    "# Selecting the featured data\n",
    "\n",
    "X1 = pred_College[['category', 'quota', 'pool', 'institute_type', 'round_no',\n",
    "       'opening_rank', 'closing_rank']]"
   ]
  },
  {
   "cell_type": "code",
   "execution_count": 111,
   "id": "88bbda63-cf93-454c-a4f3-ad292a59c482",
   "metadata": {},
   "outputs": [],
   "source": [
    "# Spilliting the data into training and testing dataset\n",
    "\n",
    "from sklearn.model_selection import train_test_split\n",
    "X1_train, X1_test, y1_train, y1_test = train_test_split(X1, y1, train_size = 0.8)"
   ]
  },
  {
   "cell_type": "code",
   "execution_count": 112,
   "id": "26c6016f-ed15-4607-ae08-7a3dca33d863",
   "metadata": {},
   "outputs": [
    {
     "data": {
      "text/plain": [
       "array([[51966, 7],\n",
       "       [12992, 7],\n",
       "       [51966, 3],\n",
       "       [12992, 3]], dtype=object)"
      ]
     },
     "execution_count": 112,
     "metadata": {},
     "output_type": "execute_result"
    }
   ],
   "source": [
    "a1 = np.array([X1_train.shape, X1_test.shape, y1_train.shape, y1_test.shape], dtype = 'object')\n",
    "a1"
   ]
  },
  {
   "cell_type": "code",
   "execution_count": 122,
   "id": "be2d4541-d0b5-46fb-827a-78bbfcb6259f",
   "metadata": {},
   "outputs": [],
   "source": [
    "# Importing library for mdoel generation\n",
    "\n",
    "from sklearn.neighbors import KNeighborsClassifier\n",
    "model2 = KNeighborsClassifier()"
   ]
  },
  {
   "cell_type": "code",
   "execution_count": 123,
   "id": "8cf16ac0-471f-4e3f-a79d-422008698af0",
   "metadata": {},
   "outputs": [
    {
     "data": {
      "text/html": [
       "<style>#sk-container-id-3 {\n",
       "  /* Definition of color scheme common for light and dark mode */\n",
       "  --sklearn-color-text: black;\n",
       "  --sklearn-color-line: gray;\n",
       "  /* Definition of color scheme for unfitted estimators */\n",
       "  --sklearn-color-unfitted-level-0: #fff5e6;\n",
       "  --sklearn-color-unfitted-level-1: #f6e4d2;\n",
       "  --sklearn-color-unfitted-level-2: #ffe0b3;\n",
       "  --sklearn-color-unfitted-level-3: chocolate;\n",
       "  /* Definition of color scheme for fitted estimators */\n",
       "  --sklearn-color-fitted-level-0: #f0f8ff;\n",
       "  --sklearn-color-fitted-level-1: #d4ebff;\n",
       "  --sklearn-color-fitted-level-2: #b3dbfd;\n",
       "  --sklearn-color-fitted-level-3: cornflowerblue;\n",
       "\n",
       "  /* Specific color for light theme */\n",
       "  --sklearn-color-text-on-default-background: var(--sg-text-color, var(--theme-code-foreground, var(--jp-content-font-color1, black)));\n",
       "  --sklearn-color-background: var(--sg-background-color, var(--theme-background, var(--jp-layout-color0, white)));\n",
       "  --sklearn-color-border-box: var(--sg-text-color, var(--theme-code-foreground, var(--jp-content-font-color1, black)));\n",
       "  --sklearn-color-icon: #696969;\n",
       "\n",
       "  @media (prefers-color-scheme: dark) {\n",
       "    /* Redefinition of color scheme for dark theme */\n",
       "    --sklearn-color-text-on-default-background: var(--sg-text-color, var(--theme-code-foreground, var(--jp-content-font-color1, white)));\n",
       "    --sklearn-color-background: var(--sg-background-color, var(--theme-background, var(--jp-layout-color0, #111)));\n",
       "    --sklearn-color-border-box: var(--sg-text-color, var(--theme-code-foreground, var(--jp-content-font-color1, white)));\n",
       "    --sklearn-color-icon: #878787;\n",
       "  }\n",
       "}\n",
       "\n",
       "#sk-container-id-3 {\n",
       "  color: var(--sklearn-color-text);\n",
       "}\n",
       "\n",
       "#sk-container-id-3 pre {\n",
       "  padding: 0;\n",
       "}\n",
       "\n",
       "#sk-container-id-3 input.sk-hidden--visually {\n",
       "  border: 0;\n",
       "  clip: rect(1px 1px 1px 1px);\n",
       "  clip: rect(1px, 1px, 1px, 1px);\n",
       "  height: 1px;\n",
       "  margin: -1px;\n",
       "  overflow: hidden;\n",
       "  padding: 0;\n",
       "  position: absolute;\n",
       "  width: 1px;\n",
       "}\n",
       "\n",
       "#sk-container-id-3 div.sk-dashed-wrapped {\n",
       "  border: 1px dashed var(--sklearn-color-line);\n",
       "  margin: 0 0.4em 0.5em 0.4em;\n",
       "  box-sizing: border-box;\n",
       "  padding-bottom: 0.4em;\n",
       "  background-color: var(--sklearn-color-background);\n",
       "}\n",
       "\n",
       "#sk-container-id-3 div.sk-container {\n",
       "  /* jupyter's `normalize.less` sets `[hidden] { display: none; }`\n",
       "     but bootstrap.min.css set `[hidden] { display: none !important; }`\n",
       "     so we also need the `!important` here to be able to override the\n",
       "     default hidden behavior on the sphinx rendered scikit-learn.org.\n",
       "     See: https://github.com/scikit-learn/scikit-learn/issues/21755 */\n",
       "  display: inline-block !important;\n",
       "  position: relative;\n",
       "}\n",
       "\n",
       "#sk-container-id-3 div.sk-text-repr-fallback {\n",
       "  display: none;\n",
       "}\n",
       "\n",
       "div.sk-parallel-item,\n",
       "div.sk-serial,\n",
       "div.sk-item {\n",
       "  /* draw centered vertical line to link estimators */\n",
       "  background-image: linear-gradient(var(--sklearn-color-text-on-default-background), var(--sklearn-color-text-on-default-background));\n",
       "  background-size: 2px 100%;\n",
       "  background-repeat: no-repeat;\n",
       "  background-position: center center;\n",
       "}\n",
       "\n",
       "/* Parallel-specific style estimator block */\n",
       "\n",
       "#sk-container-id-3 div.sk-parallel-item::after {\n",
       "  content: \"\";\n",
       "  width: 100%;\n",
       "  border-bottom: 2px solid var(--sklearn-color-text-on-default-background);\n",
       "  flex-grow: 1;\n",
       "}\n",
       "\n",
       "#sk-container-id-3 div.sk-parallel {\n",
       "  display: flex;\n",
       "  align-items: stretch;\n",
       "  justify-content: center;\n",
       "  background-color: var(--sklearn-color-background);\n",
       "  position: relative;\n",
       "}\n",
       "\n",
       "#sk-container-id-3 div.sk-parallel-item {\n",
       "  display: flex;\n",
       "  flex-direction: column;\n",
       "}\n",
       "\n",
       "#sk-container-id-3 div.sk-parallel-item:first-child::after {\n",
       "  align-self: flex-end;\n",
       "  width: 50%;\n",
       "}\n",
       "\n",
       "#sk-container-id-3 div.sk-parallel-item:last-child::after {\n",
       "  align-self: flex-start;\n",
       "  width: 50%;\n",
       "}\n",
       "\n",
       "#sk-container-id-3 div.sk-parallel-item:only-child::after {\n",
       "  width: 0;\n",
       "}\n",
       "\n",
       "/* Serial-specific style estimator block */\n",
       "\n",
       "#sk-container-id-3 div.sk-serial {\n",
       "  display: flex;\n",
       "  flex-direction: column;\n",
       "  align-items: center;\n",
       "  background-color: var(--sklearn-color-background);\n",
       "  padding-right: 1em;\n",
       "  padding-left: 1em;\n",
       "}\n",
       "\n",
       "\n",
       "/* Toggleable style: style used for estimator/Pipeline/ColumnTransformer box that is\n",
       "clickable and can be expanded/collapsed.\n",
       "- Pipeline and ColumnTransformer use this feature and define the default style\n",
       "- Estimators will overwrite some part of the style using the `sk-estimator` class\n",
       "*/\n",
       "\n",
       "/* Pipeline and ColumnTransformer style (default) */\n",
       "\n",
       "#sk-container-id-3 div.sk-toggleable {\n",
       "  /* Default theme specific background. It is overwritten whether we have a\n",
       "  specific estimator or a Pipeline/ColumnTransformer */\n",
       "  background-color: var(--sklearn-color-background);\n",
       "}\n",
       "\n",
       "/* Toggleable label */\n",
       "#sk-container-id-3 label.sk-toggleable__label {\n",
       "  cursor: pointer;\n",
       "  display: block;\n",
       "  width: 100%;\n",
       "  margin-bottom: 0;\n",
       "  padding: 0.5em;\n",
       "  box-sizing: border-box;\n",
       "  text-align: center;\n",
       "}\n",
       "\n",
       "#sk-container-id-3 label.sk-toggleable__label-arrow:before {\n",
       "  /* Arrow on the left of the label */\n",
       "  content: \"▸\";\n",
       "  float: left;\n",
       "  margin-right: 0.25em;\n",
       "  color: var(--sklearn-color-icon);\n",
       "}\n",
       "\n",
       "#sk-container-id-3 label.sk-toggleable__label-arrow:hover:before {\n",
       "  color: var(--sklearn-color-text);\n",
       "}\n",
       "\n",
       "/* Toggleable content - dropdown */\n",
       "\n",
       "#sk-container-id-3 div.sk-toggleable__content {\n",
       "  max-height: 0;\n",
       "  max-width: 0;\n",
       "  overflow: hidden;\n",
       "  text-align: left;\n",
       "  /* unfitted */\n",
       "  background-color: var(--sklearn-color-unfitted-level-0);\n",
       "}\n",
       "\n",
       "#sk-container-id-3 div.sk-toggleable__content.fitted {\n",
       "  /* fitted */\n",
       "  background-color: var(--sklearn-color-fitted-level-0);\n",
       "}\n",
       "\n",
       "#sk-container-id-3 div.sk-toggleable__content pre {\n",
       "  margin: 0.2em;\n",
       "  border-radius: 0.25em;\n",
       "  color: var(--sklearn-color-text);\n",
       "  /* unfitted */\n",
       "  background-color: var(--sklearn-color-unfitted-level-0);\n",
       "}\n",
       "\n",
       "#sk-container-id-3 div.sk-toggleable__content.fitted pre {\n",
       "  /* unfitted */\n",
       "  background-color: var(--sklearn-color-fitted-level-0);\n",
       "}\n",
       "\n",
       "#sk-container-id-3 input.sk-toggleable__control:checked~div.sk-toggleable__content {\n",
       "  /* Expand drop-down */\n",
       "  max-height: 200px;\n",
       "  max-width: 100%;\n",
       "  overflow: auto;\n",
       "}\n",
       "\n",
       "#sk-container-id-3 input.sk-toggleable__control:checked~label.sk-toggleable__label-arrow:before {\n",
       "  content: \"▾\";\n",
       "}\n",
       "\n",
       "/* Pipeline/ColumnTransformer-specific style */\n",
       "\n",
       "#sk-container-id-3 div.sk-label input.sk-toggleable__control:checked~label.sk-toggleable__label {\n",
       "  color: var(--sklearn-color-text);\n",
       "  background-color: var(--sklearn-color-unfitted-level-2);\n",
       "}\n",
       "\n",
       "#sk-container-id-3 div.sk-label.fitted input.sk-toggleable__control:checked~label.sk-toggleable__label {\n",
       "  background-color: var(--sklearn-color-fitted-level-2);\n",
       "}\n",
       "\n",
       "/* Estimator-specific style */\n",
       "\n",
       "/* Colorize estimator box */\n",
       "#sk-container-id-3 div.sk-estimator input.sk-toggleable__control:checked~label.sk-toggleable__label {\n",
       "  /* unfitted */\n",
       "  background-color: var(--sklearn-color-unfitted-level-2);\n",
       "}\n",
       "\n",
       "#sk-container-id-3 div.sk-estimator.fitted input.sk-toggleable__control:checked~label.sk-toggleable__label {\n",
       "  /* fitted */\n",
       "  background-color: var(--sklearn-color-fitted-level-2);\n",
       "}\n",
       "\n",
       "#sk-container-id-3 div.sk-label label.sk-toggleable__label,\n",
       "#sk-container-id-3 div.sk-label label {\n",
       "  /* The background is the default theme color */\n",
       "  color: var(--sklearn-color-text-on-default-background);\n",
       "}\n",
       "\n",
       "/* On hover, darken the color of the background */\n",
       "#sk-container-id-3 div.sk-label:hover label.sk-toggleable__label {\n",
       "  color: var(--sklearn-color-text);\n",
       "  background-color: var(--sklearn-color-unfitted-level-2);\n",
       "}\n",
       "\n",
       "/* Label box, darken color on hover, fitted */\n",
       "#sk-container-id-3 div.sk-label.fitted:hover label.sk-toggleable__label.fitted {\n",
       "  color: var(--sklearn-color-text);\n",
       "  background-color: var(--sklearn-color-fitted-level-2);\n",
       "}\n",
       "\n",
       "/* Estimator label */\n",
       "\n",
       "#sk-container-id-3 div.sk-label label {\n",
       "  font-family: monospace;\n",
       "  font-weight: bold;\n",
       "  display: inline-block;\n",
       "  line-height: 1.2em;\n",
       "}\n",
       "\n",
       "#sk-container-id-3 div.sk-label-container {\n",
       "  text-align: center;\n",
       "}\n",
       "\n",
       "/* Estimator-specific */\n",
       "#sk-container-id-3 div.sk-estimator {\n",
       "  font-family: monospace;\n",
       "  border: 1px dotted var(--sklearn-color-border-box);\n",
       "  border-radius: 0.25em;\n",
       "  box-sizing: border-box;\n",
       "  margin-bottom: 0.5em;\n",
       "  /* unfitted */\n",
       "  background-color: var(--sklearn-color-unfitted-level-0);\n",
       "}\n",
       "\n",
       "#sk-container-id-3 div.sk-estimator.fitted {\n",
       "  /* fitted */\n",
       "  background-color: var(--sklearn-color-fitted-level-0);\n",
       "}\n",
       "\n",
       "/* on hover */\n",
       "#sk-container-id-3 div.sk-estimator:hover {\n",
       "  /* unfitted */\n",
       "  background-color: var(--sklearn-color-unfitted-level-2);\n",
       "}\n",
       "\n",
       "#sk-container-id-3 div.sk-estimator.fitted:hover {\n",
       "  /* fitted */\n",
       "  background-color: var(--sklearn-color-fitted-level-2);\n",
       "}\n",
       "\n",
       "/* Specification for estimator info (e.g. \"i\" and \"?\") */\n",
       "\n",
       "/* Common style for \"i\" and \"?\" */\n",
       "\n",
       ".sk-estimator-doc-link,\n",
       "a:link.sk-estimator-doc-link,\n",
       "a:visited.sk-estimator-doc-link {\n",
       "  float: right;\n",
       "  font-size: smaller;\n",
       "  line-height: 1em;\n",
       "  font-family: monospace;\n",
       "  background-color: var(--sklearn-color-background);\n",
       "  border-radius: 1em;\n",
       "  height: 1em;\n",
       "  width: 1em;\n",
       "  text-decoration: none !important;\n",
       "  margin-left: 1ex;\n",
       "  /* unfitted */\n",
       "  border: var(--sklearn-color-unfitted-level-1) 1pt solid;\n",
       "  color: var(--sklearn-color-unfitted-level-1);\n",
       "}\n",
       "\n",
       ".sk-estimator-doc-link.fitted,\n",
       "a:link.sk-estimator-doc-link.fitted,\n",
       "a:visited.sk-estimator-doc-link.fitted {\n",
       "  /* fitted */\n",
       "  border: var(--sklearn-color-fitted-level-1) 1pt solid;\n",
       "  color: var(--sklearn-color-fitted-level-1);\n",
       "}\n",
       "\n",
       "/* On hover */\n",
       "div.sk-estimator:hover .sk-estimator-doc-link:hover,\n",
       ".sk-estimator-doc-link:hover,\n",
       "div.sk-label-container:hover .sk-estimator-doc-link:hover,\n",
       ".sk-estimator-doc-link:hover {\n",
       "  /* unfitted */\n",
       "  background-color: var(--sklearn-color-unfitted-level-3);\n",
       "  color: var(--sklearn-color-background);\n",
       "  text-decoration: none;\n",
       "}\n",
       "\n",
       "div.sk-estimator.fitted:hover .sk-estimator-doc-link.fitted:hover,\n",
       ".sk-estimator-doc-link.fitted:hover,\n",
       "div.sk-label-container:hover .sk-estimator-doc-link.fitted:hover,\n",
       ".sk-estimator-doc-link.fitted:hover {\n",
       "  /* fitted */\n",
       "  background-color: var(--sklearn-color-fitted-level-3);\n",
       "  color: var(--sklearn-color-background);\n",
       "  text-decoration: none;\n",
       "}\n",
       "\n",
       "/* Span, style for the box shown on hovering the info icon */\n",
       ".sk-estimator-doc-link span {\n",
       "  display: none;\n",
       "  z-index: 9999;\n",
       "  position: relative;\n",
       "  font-weight: normal;\n",
       "  right: .2ex;\n",
       "  padding: .5ex;\n",
       "  margin: .5ex;\n",
       "  width: min-content;\n",
       "  min-width: 20ex;\n",
       "  max-width: 50ex;\n",
       "  color: var(--sklearn-color-text);\n",
       "  box-shadow: 2pt 2pt 4pt #999;\n",
       "  /* unfitted */\n",
       "  background: var(--sklearn-color-unfitted-level-0);\n",
       "  border: .5pt solid var(--sklearn-color-unfitted-level-3);\n",
       "}\n",
       "\n",
       ".sk-estimator-doc-link.fitted span {\n",
       "  /* fitted */\n",
       "  background: var(--sklearn-color-fitted-level-0);\n",
       "  border: var(--sklearn-color-fitted-level-3);\n",
       "}\n",
       "\n",
       ".sk-estimator-doc-link:hover span {\n",
       "  display: block;\n",
       "}\n",
       "\n",
       "/* \"?\"-specific style due to the `<a>` HTML tag */\n",
       "\n",
       "#sk-container-id-3 a.estimator_doc_link {\n",
       "  float: right;\n",
       "  font-size: 1rem;\n",
       "  line-height: 1em;\n",
       "  font-family: monospace;\n",
       "  background-color: var(--sklearn-color-background);\n",
       "  border-radius: 1rem;\n",
       "  height: 1rem;\n",
       "  width: 1rem;\n",
       "  text-decoration: none;\n",
       "  /* unfitted */\n",
       "  color: var(--sklearn-color-unfitted-level-1);\n",
       "  border: var(--sklearn-color-unfitted-level-1) 1pt solid;\n",
       "}\n",
       "\n",
       "#sk-container-id-3 a.estimator_doc_link.fitted {\n",
       "  /* fitted */\n",
       "  border: var(--sklearn-color-fitted-level-1) 1pt solid;\n",
       "  color: var(--sklearn-color-fitted-level-1);\n",
       "}\n",
       "\n",
       "/* On hover */\n",
       "#sk-container-id-3 a.estimator_doc_link:hover {\n",
       "  /* unfitted */\n",
       "  background-color: var(--sklearn-color-unfitted-level-3);\n",
       "  color: var(--sklearn-color-background);\n",
       "  text-decoration: none;\n",
       "}\n",
       "\n",
       "#sk-container-id-3 a.estimator_doc_link.fitted:hover {\n",
       "  /* fitted */\n",
       "  background-color: var(--sklearn-color-fitted-level-3);\n",
       "}\n",
       "</style><div id=\"sk-container-id-3\" class=\"sk-top-container\"><div class=\"sk-text-repr-fallback\"><pre>KNeighborsClassifier()</pre><b>In a Jupyter environment, please rerun this cell to show the HTML representation or trust the notebook. <br />On GitHub, the HTML representation is unable to render, please try loading this page with nbviewer.org.</b></div><div class=\"sk-container\" hidden><div class=\"sk-item\"><div class=\"sk-estimator fitted sk-toggleable\"><input class=\"sk-toggleable__control sk-hidden--visually\" id=\"sk-estimator-id-3\" type=\"checkbox\" checked><label for=\"sk-estimator-id-3\" class=\"sk-toggleable__label fitted sk-toggleable__label-arrow fitted\">&nbsp;&nbsp;KNeighborsClassifier<a class=\"sk-estimator-doc-link fitted\" rel=\"noreferrer\" target=\"_blank\" href=\"https://scikit-learn.org/1.4/modules/generated/sklearn.neighbors.KNeighborsClassifier.html\">?<span>Documentation for KNeighborsClassifier</span></a><span class=\"sk-estimator-doc-link fitted\">i<span>Fitted</span></span></label><div class=\"sk-toggleable__content fitted\"><pre>KNeighborsClassifier()</pre></div> </div></div></div></div>"
      ],
      "text/plain": [
       "KNeighborsClassifier()"
      ]
     },
     "execution_count": 123,
     "metadata": {},
     "output_type": "execute_result"
    }
   ],
   "source": [
    "model2.fit(X1_train, y1_train)"
   ]
  },
  {
   "cell_type": "code",
   "execution_count": 124,
   "id": "bd82359e-ce3d-4cae-9c06-fbb2700f9685",
   "metadata": {},
   "outputs": [
    {
     "data": {
      "text/plain": [
       "array([['NIT-Silchar', 'B.Tech',\n",
       "        'Electronics and Instrumentation Engineering'],\n",
       "       ['NIT-Patna', 'B.Tech', 'Civil Engineering'],\n",
       "       ['NIT-Delhi', 'B.Tech', 'Electrical and Electronics Engineering'],\n",
       "       ...,\n",
       "       ['IIT-Kharagpur', 'B.Tech + M.Tech (IDD)',\n",
       "        'Mechanical Engineering with M.Tech. in any of the listed specializations'],\n",
       "       ['IIT-(BHU) Varanasi', 'B.Tech', 'Electrical Engineering'],\n",
       "       ['IIT-Delhi', 'B.Tech', 'Chemical Engineering']], dtype=object)"
      ]
     },
     "execution_count": 124,
     "metadata": {},
     "output_type": "execute_result"
    }
   ],
   "source": [
    "# predicting the dataset\n",
    "\n",
    "y_pred1 = model2.predict(X1_test)\n",
    "y_pred1"
   ]
  },
  {
   "cell_type": "code",
   "execution_count": 125,
   "id": "06ea3dad-efe2-4f8a-bb8d-369c3dbc7fab",
   "metadata": {},
   "outputs": [
    {
     "data": {
      "text/html": [
       "<div>\n",
       "<style scoped>\n",
       "    .dataframe tbody tr th:only-of-type {\n",
       "        vertical-align: middle;\n",
       "    }\n",
       "\n",
       "    .dataframe tbody tr th {\n",
       "        vertical-align: top;\n",
       "    }\n",
       "\n",
       "    .dataframe thead tr th {\n",
       "        text-align: left;\n",
       "    }\n",
       "</style>\n",
       "<table border=\"1\" class=\"dataframe\">\n",
       "  <thead>\n",
       "    <tr>\n",
       "      <th></th>\n",
       "      <th>College</th>\n",
       "      <th>Branch</th>\n",
       "      <th>Degree</th>\n",
       "    </tr>\n",
       "  </thead>\n",
       "  <tbody>\n",
       "    <tr>\n",
       "      <th>0</th>\n",
       "      <td>IIT-Delhi</td>\n",
       "      <td>B.Tech</td>\n",
       "      <td>Computer Science and Engineering</td>\n",
       "    </tr>\n",
       "    <tr>\n",
       "      <th>1</th>\n",
       "      <td>IIT-Hyderabad</td>\n",
       "      <td>B.Tech</td>\n",
       "      <td>Mechanical Engineering</td>\n",
       "    </tr>\n",
       "  </tbody>\n",
       "</table>\n",
       "</div>"
      ],
      "text/plain": [
       "         College  Branch                            Degree\n",
       "0      IIT-Delhi  B.Tech  Computer Science and Engineering\n",
       "1  IIT-Hyderabad  B.Tech            Mechanical Engineering"
      ]
     },
     "execution_count": 125,
     "metadata": {},
     "output_type": "execute_result"
    }
   ],
   "source": [
    "# prediction\n",
    "\n",
    "Prediction1 = pd.DataFrame(model2.predict([[0, 0, 0, 1, 6, 1000, 2841], [5, 5, 1, 0, 2, 1000, 1841]]), columns = [['College', 'Branch', 'Degree']])\n",
    "Prediction1\n",
    "# Prediction1 = model1.predict([[0, 1, 10, 10, 10, 5000, 2841]])\n",
    "# print(Prediction1)"
   ]
  },
  {
   "cell_type": "markdown",
   "id": "72604b03-82d4-48d4-ad91-c8e6d3d4c293",
   "metadata": {},
   "source": [
    "# **<span style=\"color:blue;\">✔Pickling the model for the deployment</span>**"
   ]
  },
  {
   "cell_type": "code",
   "execution_count": 127,
   "id": "03b5fb2a-4abd-4279-9598-d994b9a44c7b",
   "metadata": {},
   "outputs": [],
   "source": [
    "import pickle"
   ]
  },
  {
   "cell_type": "code",
   "execution_count": 128,
   "id": "a77f9ce3-41cf-448b-a328-5caf2abc67ca",
   "metadata": {},
   "outputs": [],
   "source": [
    "pickle.dump(model1, open(\"model2.pkl\", \"wb\"))"
   ]
  },
  {
   "cell_type": "code",
   "execution_count": 129,
   "id": "5c49f17c-6bbf-491d-aa4c-3fdc5596297c",
   "metadata": {},
   "outputs": [
    {
     "name": "stdout",
     "output_type": "stream",
     "text": [
      "[['NIT-Rourkela' 'Int MSc.' 'Mathematics']]\n"
     ]
    }
   ],
   "source": [
    "loaded_model = pickle.load(open(\"model2.pkl\", 'rb'))\n",
    "result = loaded_model.predict([[1, 1, 10, 10, 10, 5000, 2841]])\n",
    "print(result)"
   ]
  },
  {
   "cell_type": "code",
   "execution_count": 130,
   "id": "a7902b21-021a-47ef-9717-f76d7c7ebd38",
   "metadata": {},
   "outputs": [
    {
     "name": "stdout",
     "output_type": "stream",
     "text": [
      "[['IIT-Delhi' 'B.Tech' 'Computer Science and Engineering']]\n"
     ]
    }
   ],
   "source": [
    "result = loaded_model.predict([[0, 6, 0, 0, 0, 1000, 2841]])\n",
    "print(result)"
   ]
  },
  {
   "cell_type": "markdown",
   "id": "ce9c26b2-9fd7-4562-b953-5ade3e0b03bd",
   "metadata": {},
   "source": [
    "# **<span style=\"color:darkgreen;\">Conclusion</span>**\n",
    "It takes a great deal of effort to make it to elite engineering schools of India. It is quite evident from the above analysis that the acceptance rate of highly reputed IIT and NIT is quite low. Also, the top rankers get into these schools along those who have attained certain haigh ranks or a quota via some source such as state.\n",
    "***"
   ]
  },
  {
   "cell_type": "code",
   "execution_count": null,
   "id": "fb523024-665e-42e5-8ca7-00ac05c7b94d",
   "metadata": {},
   "outputs": [],
   "source": []
  }
 ],
 "metadata": {
  "kernelspec": {
   "display_name": "Python 3 (ipykernel)",
   "language": "python",
   "name": "python3"
  },
  "language_info": {
   "codemirror_mode": {
    "name": "ipython",
    "version": 3
   },
   "file_extension": ".py",
   "mimetype": "text/x-python",
   "name": "python",
   "nbconvert_exporter": "python",
   "pygments_lexer": "ipython3",
   "version": "3.12.4"
  }
 },
 "nbformat": 4,
 "nbformat_minor": 5
}
